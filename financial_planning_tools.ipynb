{
 "cells": [
  {
   "cell_type": "markdown",
   "metadata": {},
   "source": [
    "# Financial Planning with APIs and Simulations\n",
    "\n",
    "In this Challenge, you’ll create two financial analysis tools by using a single Jupyter notebook:\n",
    "\n",
    "Part 1: A financial planner for emergencies. The members will be able to use this tool to visualize their current savings. The members can then determine if they have enough reserves for an emergency fund.\n",
    "\n",
    "Part 2: A financial planner for retirement. This tool will forecast the performance of their retirement portfolio in 30 years. To do this, the tool will make an Alpaca API call via the Alpaca SDK to get historical price data for use in Monte Carlo simulations.\n",
    "\n",
    "You’ll use the information from the Monte Carlo simulation to answer questions about the portfolio in your Jupyter notebook.\n",
    "\n"
   ]
  },
  {
   "cell_type": "code",
   "execution_count": 1,
   "metadata": {},
   "outputs": [],
   "source": [
    "# Import the required libraries and dependencies\n",
    "import os\n",
    "import requests\n",
    "import json\n",
    "import pandas as pd\n",
    "from dotenv import load_dotenv\n",
    "import alpaca_trade_api as tradeapi\n",
    "from MCForecastTools import MCSimulation\n",
    "\n",
    "%matplotlib inline"
   ]
  },
  {
   "cell_type": "code",
   "execution_count": 2,
   "metadata": {},
   "outputs": [
    {
     "data": {
      "text/plain": [
       "True"
      ]
     },
     "execution_count": 2,
     "metadata": {},
     "output_type": "execute_result"
    }
   ],
   "source": [
    "# Load the environment variables from the .env file\n",
    "#by calling the load_dotenv function\n",
    "load_dotenv()"
   ]
  },
  {
   "cell_type": "markdown",
   "metadata": {},
   "source": [
    "## Part 1: Create a Financial Planner for Emergencies"
   ]
  },
  {
   "cell_type": "markdown",
   "metadata": {},
   "source": [
    "### Evaluate the Cryptocurrency Wallet by Using the Requests Library\n",
    "\n",
    "In this section, you’ll determine the current value of a member’s cryptocurrency wallet. You’ll collect the current prices for the Bitcoin and Ethereum cryptocurrencies by using the Python Requests library. For the prototype, you’ll assume that the member holds the 1.2 Bitcoins (BTC) and 5.3 Ethereum coins (ETH). To do all this, complete the following steps:\n",
    "\n",
    "1. Create a variable named `monthly_income`, and set its value to `12000`.\n",
    "\n",
    "2. Use the Requests library to get the current price (in US dollars) of Bitcoin (BTC) and Ethereum (ETH) by using the API endpoints that the starter code supplies.\n",
    "\n",
    "3. Navigate the JSON response object to access the current price of each coin, and store each in a variable.\n",
    "\n",
    "    > **Hint** Note the specific identifier for each cryptocurrency in the API JSON response. The Bitcoin identifier is `1`, and the Ethereum identifier is `1027`.\n",
    "\n",
    "4. Calculate the value, in US dollars, of the current amount of each cryptocurrency and of the entire cryptocurrency wallet.\n",
    "\n"
   ]
  },
  {
   "cell_type": "code",
   "execution_count": 3,
   "metadata": {},
   "outputs": [],
   "source": [
    "# The current number of coins for each cryptocurrency asset held in the portfolio.\n",
    "btc_coins = 1.2\n",
    "eth_coins = 5.3"
   ]
  },
  {
   "cell_type": "markdown",
   "metadata": {},
   "source": [
    "#### Step 1: Create a variable named `monthly_income`, and set its value to `12000`."
   ]
  },
  {
   "cell_type": "code",
   "execution_count": 4,
   "metadata": {},
   "outputs": [],
   "source": [
    "# The monthly amount for the member's household income\n",
    "# YOUR CODE HERE\n",
    "monthly_income=12000"
   ]
  },
  {
   "cell_type": "markdown",
   "metadata": {},
   "source": [
    "#### Review the endpoint URLs for the API calls to Free Crypto API in order to get the current pricing information for both BTC and ETH."
   ]
  },
  {
   "cell_type": "code",
   "execution_count": 5,
   "metadata": {},
   "outputs": [],
   "source": [
    "# The Free Crypto API Call endpoint URLs for the held cryptocurrency assets\n",
    "btc_url = \"https://api.alternative.me/v2/ticker/Bitcoin/?convert=USD\"\n",
    "eth_url = \"https://api.alternative.me/v2/ticker/Ethereum/?convert=USD\""
   ]
  },
  {
   "cell_type": "markdown",
   "metadata": {},
   "source": [
    "#### Step 2. Use the Requests library to get the current price (in US dollars) of Bitcoin (BTC) and Ethereum (ETH) by using the API endpoints that the starter code supplied."
   ]
  },
  {
   "cell_type": "code",
   "execution_count": 6,
   "metadata": {},
   "outputs": [
    {
     "name": "stdout",
     "output_type": "stream",
     "text": [
      "{\n",
      "    \"data\": {\n",
      "        \"1\": {\n",
      "            \"circulating_supply\": 18935525,\n",
      "            \"id\": 1,\n",
      "            \"last_updated\": 1642718923,\n",
      "            \"max_supply\": 21000000,\n",
      "            \"name\": \"Bitcoin\",\n",
      "            \"quotes\": {\n",
      "                \"USD\": {\n",
      "                    \"market_cap\": 782938218018,\n",
      "                    \"percent_change_1h\": -0.973439090110565,\n",
      "                    \"percent_change_24h\": -1.96196461494879,\n",
      "                    \"percent_change_7d\": -6.4228567279933,\n",
      "                    \"percentage_change_1h\": -0.973439090110565,\n",
      "                    \"percentage_change_24h\": -1.96196461494879,\n",
      "                    \"percentage_change_7d\": -6.4228567279933,\n",
      "                    \"price\": 41157.0,\n",
      "                    \"volume_24h\": 19972840437\n",
      "                }\n",
      "            },\n",
      "            \"rank\": 1,\n",
      "            \"symbol\": \"BTC\",\n",
      "            \"total_supply\": 18935525,\n",
      "            \"website_slug\": \"bitcoin\"\n",
      "        }\n",
      "    },\n",
      "    \"metadata\": {\n",
      "        \"error\": null,\n",
      "        \"num_cryptocurrencies\": 3105,\n",
      "        \"timestamp\": 1642718923\n",
      "    }\n",
      "}\n"
     ]
    }
   ],
   "source": [
    "# Using the Python requests library, make an API call to access the current price of BTC\n",
    "btc_response = requests.get(btc_url).json()\n",
    "\n",
    "# Use the json.dumps function to review the response data from the API call\n",
    "# Use the indent and sort_keys parameters to make the response object readable\n",
    "print(json.dumps(btc_response, indent=4, sort_keys=True))\n"
   ]
  },
  {
   "cell_type": "code",
   "execution_count": 7,
   "metadata": {},
   "outputs": [
    {
     "name": "stdout",
     "output_type": "stream",
     "text": [
      "{\n",
      "    \"data\": {\n",
      "        \"1027\": {\n",
      "            \"circulating_supply\": 119243300,\n",
      "            \"id\": 1027,\n",
      "            \"last_updated\": 1642718906,\n",
      "            \"max_supply\": 0,\n",
      "            \"name\": \"Ethereum\",\n",
      "            \"quotes\": {\n",
      "                \"USD\": {\n",
      "                    \"market_cap\": 367365515863,\n",
      "                    \"percent_change_1h\": -1.6226209056251,\n",
      "                    \"percent_change_24h\": -2.23846436046875,\n",
      "                    \"percent_change_7d\": -9.35511167811756,\n",
      "                    \"percentage_change_1h\": -1.6226209056251,\n",
      "                    \"percentage_change_24h\": -2.23846436046875,\n",
      "                    \"percentage_change_7d\": -9.35511167811756,\n",
      "                    \"price\": 3062.02,\n",
      "                    \"volume_24h\": 12220739703\n",
      "                }\n",
      "            },\n",
      "            \"rank\": 2,\n",
      "            \"symbol\": \"ETH\",\n",
      "            \"total_supply\": 119243300,\n",
      "            \"website_slug\": \"ethereum\"\n",
      "        }\n",
      "    },\n",
      "    \"metadata\": {\n",
      "        \"error\": null,\n",
      "        \"num_cryptocurrencies\": 3105,\n",
      "        \"timestamp\": 1642718906\n",
      "    }\n",
      "}\n"
     ]
    }
   ],
   "source": [
    "# Using the Python requests library, make an API call to access the current price ETH\n",
    "eth_response = requests.get(eth_url).json()\n",
    "\n",
    "# Use the json.dumps function to review the response data from the API call\n",
    "# Use the indent and sort_keys parameters to make the response object readable\n",
    "print(json.dumps(eth_response, indent=4, sort_keys=True))\n"
   ]
  },
  {
   "cell_type": "markdown",
   "metadata": {},
   "source": [
    "#### Step 3: Navigate the JSON response object to access the current price of each coin, and store each in a variable."
   ]
  },
  {
   "cell_type": "code",
   "execution_count": 8,
   "metadata": {},
   "outputs": [
    {
     "name": "stdout",
     "output_type": "stream",
     "text": [
      "The price for Bitcoin is $41157.0\n"
     ]
    }
   ],
   "source": [
    "# Navigate the BTC response object to access the current price of BTC\n",
    "btc_price = btc_response['data']['1']['quotes']['USD']['price']\n",
    "\n",
    "# Print the current price of BTC\n",
    "print(f\"The price for Bitcoin is ${btc_price}\")\n"
   ]
  },
  {
   "cell_type": "code",
   "execution_count": 9,
   "metadata": {},
   "outputs": [
    {
     "name": "stdout",
     "output_type": "stream",
     "text": [
      "The price for Ethereum is $3062.02\n"
     ]
    }
   ],
   "source": [
    "# Navigate the Eth response object to access the current price of ETH\n",
    "eth_price = eth_response['data']['1027']['quotes']['USD']['price']\n",
    "\n",
    "# Print the current price of ETH\n",
    "print(f\"The price for Ethereum is ${eth_price}\")\n"
   ]
  },
  {
   "cell_type": "markdown",
   "metadata": {},
   "source": [
    "### Step 4: Calculate the value, in US dollars, of the current amount of each cryptocurrency and of the entire cryptocurrency wallet."
   ]
  },
  {
   "cell_type": "code",
   "execution_count": 10,
   "metadata": {},
   "outputs": [
    {
     "name": "stdout",
     "output_type": "stream",
     "text": [
      "The portfolio has $ 49388.40 of Bitcoin\n"
     ]
    }
   ],
   "source": [
    "# Compute the current value of the BTC holding \n",
    "btc_value = btc_price * btc_coins\n",
    "\n",
    "# Print current value of your holding in BTC\n",
    "print(f\"The portfolio has ${btc_value: .2f} of Bitcoin\")\n"
   ]
  },
  {
   "cell_type": "code",
   "execution_count": 11,
   "metadata": {},
   "outputs": [
    {
     "name": "stdout",
     "output_type": "stream",
     "text": [
      "The portfolio has $ 16228.71 of Ethereum\n"
     ]
    }
   ],
   "source": [
    "# Compute the current value of the ETH holding \n",
    "eth_value = eth_price * eth_coins\n",
    "\n",
    "# Print current value of your holding in ETH\n",
    "print(f\"The portfolio has ${eth_value: .2f} of Ethereum\") \n"
   ]
  },
  {
   "cell_type": "code",
   "execution_count": 12,
   "metadata": {},
   "outputs": [
    {
     "name": "stdout",
     "output_type": "stream",
     "text": [
      "This portfolio has $ 65617.11 of cryptocurrency\n"
     ]
    }
   ],
   "source": [
    "# Compute the total value of the cryptocurrency wallet\n",
    "# Add the value of the BTC holding to the value of the ETH holding\n",
    "total_crypto_wallet = btc_value + eth_value\n",
    "\n",
    "# Print current cryptocurrency wallet balance\n",
    "print(f\"This portfolio has ${total_crypto_wallet: .2f} of cryptocurrency\") \n"
   ]
  },
  {
   "cell_type": "markdown",
   "metadata": {},
   "source": [
    "### Evaluate the Stock and Bond Holdings by Using the Alpaca SDK\n",
    "\n",
    "In this section, you’ll determine the current value of a member’s stock and bond holdings. You’ll make an API call to Alpaca via the Alpaca SDK to get the current closing prices of the SPDR S&P 500 ETF Trust (ticker: SPY) and of the iShares Core US Aggregate Bond ETF (ticker: AGG). For the prototype, assume that the member holds 110 shares of SPY, which represents the stock portion of their portfolio, and 200 shares of AGG, which represents the bond portion. To do all this, complete the following steps:\n",
    "\n",
    "1. In the `Starter_Code` folder, create an environment file (`.env`) to store the values of your Alpaca API key and Alpaca secret key.\n",
    "\n",
    "2. Set the variables for the Alpaca API and secret keys. Using the Alpaca SDK, create the Alpaca `tradeapi.REST` object. In this object, include the parameters for the Alpaca API key, the secret key, and the version number.\n",
    "\n",
    "3. Set the following parameters for the Alpaca API call:\n",
    "\n",
    "    - `tickers`: Use the tickers for the member’s stock and bond holdings.\n",
    "\n",
    "    - `timeframe`: Use a time frame of one day.\n",
    "\n",
    "    - `start_date` and `end_date`: Use the same date for these parameters, and format them with the date of the previous weekday (or `2020-08-07`). This is because you want the one closing price for the most-recent trading day.\n",
    "\n",
    "4. Get the current closing prices for `SPY` and `AGG` by using the Alpaca `get_barset` function. Format the response as a Pandas DataFrame by including the `df` property at the end of the `get_barset` function.\n",
    "\n",
    "5. Navigating the Alpaca response DataFrame, select the `SPY` and `AGG` closing prices, and store them as variables.\n",
    "\n",
    "6. Calculate the value, in US dollars, of the current amount of shares in each of the stock and bond portions of the portfolio, and print the results.\n"
   ]
  },
  {
   "cell_type": "markdown",
   "metadata": {},
   "source": [
    "#### Review the total number of shares held in both (SPY) and (AGG)."
   ]
  },
  {
   "cell_type": "code",
   "execution_count": 13,
   "metadata": {},
   "outputs": [],
   "source": [
    "# Current amount of shares held in both the stock (SPY) and bond (AGG) portion of the portfolio.\n",
    "spy_shares = 110\n",
    "agg_shares = 200\n"
   ]
  },
  {
   "cell_type": "markdown",
   "metadata": {},
   "source": [
    "#### Step 1: In the `Starter_Code` folder, create an environment file (`.env`) to store the values of your Alpaca API key and Alpaca secret key."
   ]
  },
  {
   "cell_type": "markdown",
   "metadata": {},
   "source": [
    "#### Step 2: Set the variables for the Alpaca API and secret keys. Using the Alpaca SDK, create the Alpaca `tradeapi.REST` object. In this object, include the parameters for the Alpaca API key, the secret key, and the version number."
   ]
  },
  {
   "cell_type": "code",
   "execution_count": 14,
   "metadata": {},
   "outputs": [
    {
     "data": {
      "text/plain": [
       "str"
      ]
     },
     "metadata": {},
     "output_type": "display_data"
    },
    {
     "data": {
      "text/plain": [
       "str"
      ]
     },
     "metadata": {},
     "output_type": "display_data"
    }
   ],
   "source": [
    "alpaca_api_key = os.getenv(\"ALPACA_API_KEY\")\n",
    "alpaca_secret_key = os.getenv(\"ALPACA_SECRET_KEY\")# Set the variables for the Alpaca API and secret keys\n",
    "\n",
    "display(type(alpaca_api_key))\n",
    "display(type(alpaca_secret_key))\n",
    "        \n",
    "\n",
    "# Create the Alpaca tradeapi.REST object\n",
    "alpaca = tradeapi.REST(\n",
    "    alpaca_api_key,\n",
    "    alpaca_secret_key,\n",
    "    api_version=\"v2\")\n"
   ]
  },
  {
   "cell_type": "markdown",
   "metadata": {},
   "source": [
    "#### Step 3: Set the following parameters for the Alpaca API call:\n",
    "\n",
    "- `tickers`: Use the tickers for the member’s stock and bond holdings.\n",
    "\n",
    "- `timeframe`: Use a time frame of one day.\n",
    "\n",
    "- `start_date` and `end_date`: Use the same date for these parameters, and format them with the date of the previous weekday (or `2020-08-07`). This is because you want the one closing price for the most-recent trading day.\n"
   ]
  },
  {
   "cell_type": "code",
   "execution_count": 15,
   "metadata": {},
   "outputs": [],
   "source": [
    "# Set the tickers for both the bond and stock portion of the portfolio\n",
    "tickers=[\"AGG\",\"SPY\"]\n",
    "\n",
    "# Set timeframe to 1D \n",
    "timeframe=\"1D\"\n",
    "\n",
    "# Format current date as ISO format\n",
    "# Set both the start and end date at the date of your prior weekday \n",
    "# This will give you the closing price of the previous trading day\n",
    "# Alternatively you can use a start and end date of 2020-08-07\n",
    "start_date = pd.Timestamp(\"2022-01-14\", tz=\"America/New_York\").isoformat()\n",
    "end_date = pd.Timestamp(\"2022-01-14\", tz=\"America/New_York\").isoformat()\n"
   ]
  },
  {
   "cell_type": "markdown",
   "metadata": {},
   "source": [
    "#### Step 4: Get the current closing prices for `SPY` and `AGG` by using the Alpaca `get_barset` function. Format the response as a Pandas DataFrame by including the `df` property at the end of the `get_barset` function."
   ]
  },
  {
   "cell_type": "code",
   "execution_count": 16,
   "metadata": {},
   "outputs": [
    {
     "data": {
      "text/html": [
       "<div>\n",
       "<style scoped>\n",
       "    .dataframe tbody tr th:only-of-type {\n",
       "        vertical-align: middle;\n",
       "    }\n",
       "\n",
       "    .dataframe tbody tr th {\n",
       "        vertical-align: top;\n",
       "    }\n",
       "\n",
       "    .dataframe thead tr th {\n",
       "        text-align: left;\n",
       "    }\n",
       "\n",
       "    .dataframe thead tr:last-of-type th {\n",
       "        text-align: right;\n",
       "    }\n",
       "</style>\n",
       "<table border=\"1\" class=\"dataframe\">\n",
       "  <thead>\n",
       "    <tr>\n",
       "      <th></th>\n",
       "      <th colspan=\"5\" halign=\"left\">AGG</th>\n",
       "      <th colspan=\"5\" halign=\"left\">SPY</th>\n",
       "    </tr>\n",
       "    <tr>\n",
       "      <th></th>\n",
       "      <th>open</th>\n",
       "      <th>high</th>\n",
       "      <th>low</th>\n",
       "      <th>close</th>\n",
       "      <th>volume</th>\n",
       "      <th>open</th>\n",
       "      <th>high</th>\n",
       "      <th>low</th>\n",
       "      <th>close</th>\n",
       "      <th>volume</th>\n",
       "    </tr>\n",
       "    <tr>\n",
       "      <th>time</th>\n",
       "      <th></th>\n",
       "      <th></th>\n",
       "      <th></th>\n",
       "      <th></th>\n",
       "      <th></th>\n",
       "      <th></th>\n",
       "      <th></th>\n",
       "      <th></th>\n",
       "      <th></th>\n",
       "      <th></th>\n",
       "    </tr>\n",
       "  </thead>\n",
       "  <tbody>\n",
       "    <tr>\n",
       "      <th>2022-01-14 00:00:00-05:00</th>\n",
       "      <td>112.53</td>\n",
       "      <td>112.545</td>\n",
       "      <td>112.15</td>\n",
       "      <td>112.17</td>\n",
       "      <td>8362916</td>\n",
       "      <td>461.19</td>\n",
       "      <td>465.09</td>\n",
       "      <td>459.9</td>\n",
       "      <td>464.68</td>\n",
       "      <td>84363989</td>\n",
       "    </tr>\n",
       "  </tbody>\n",
       "</table>\n",
       "</div>"
      ],
      "text/plain": [
       "                              AGG                                       SPY  \\\n",
       "                             open     high     low   close   volume    open   \n",
       "time                                                                          \n",
       "2022-01-14 00:00:00-05:00  112.53  112.545  112.15  112.17  8362916  461.19   \n",
       "\n",
       "                                                            \n",
       "                             high    low   close    volume  \n",
       "time                                                        \n",
       "2022-01-14 00:00:00-05:00  465.09  459.9  464.68  84363989  "
      ]
     },
     "metadata": {},
     "output_type": "display_data"
    },
    {
     "data": {
      "text/html": [
       "<div>\n",
       "<style scoped>\n",
       "    .dataframe tbody tr th:only-of-type {\n",
       "        vertical-align: middle;\n",
       "    }\n",
       "\n",
       "    .dataframe tbody tr th {\n",
       "        vertical-align: top;\n",
       "    }\n",
       "\n",
       "    .dataframe thead tr th {\n",
       "        text-align: left;\n",
       "    }\n",
       "\n",
       "    .dataframe thead tr:last-of-type th {\n",
       "        text-align: right;\n",
       "    }\n",
       "</style>\n",
       "<table border=\"1\" class=\"dataframe\">\n",
       "  <thead>\n",
       "    <tr>\n",
       "      <th></th>\n",
       "      <th colspan=\"5\" halign=\"left\">AGG</th>\n",
       "      <th colspan=\"5\" halign=\"left\">SPY</th>\n",
       "    </tr>\n",
       "    <tr>\n",
       "      <th></th>\n",
       "      <th>open</th>\n",
       "      <th>high</th>\n",
       "      <th>low</th>\n",
       "      <th>close</th>\n",
       "      <th>volume</th>\n",
       "      <th>open</th>\n",
       "      <th>high</th>\n",
       "      <th>low</th>\n",
       "      <th>close</th>\n",
       "      <th>volume</th>\n",
       "    </tr>\n",
       "    <tr>\n",
       "      <th>time</th>\n",
       "      <th></th>\n",
       "      <th></th>\n",
       "      <th></th>\n",
       "      <th></th>\n",
       "      <th></th>\n",
       "      <th></th>\n",
       "      <th></th>\n",
       "      <th></th>\n",
       "      <th></th>\n",
       "      <th></th>\n",
       "    </tr>\n",
       "  </thead>\n",
       "  <tbody>\n",
       "    <tr>\n",
       "      <th>2022-01-14 00:00:00-05:00</th>\n",
       "      <td>112.53</td>\n",
       "      <td>112.545</td>\n",
       "      <td>112.15</td>\n",
       "      <td>112.17</td>\n",
       "      <td>8362916</td>\n",
       "      <td>461.19</td>\n",
       "      <td>465.09</td>\n",
       "      <td>459.9</td>\n",
       "      <td>464.68</td>\n",
       "      <td>84363989</td>\n",
       "    </tr>\n",
       "  </tbody>\n",
       "</table>\n",
       "</div>"
      ],
      "text/plain": [
       "                              AGG                                       SPY  \\\n",
       "                             open     high     low   close   volume    open   \n",
       "time                                                                          \n",
       "2022-01-14 00:00:00-05:00  112.53  112.545  112.15  112.17  8362916  461.19   \n",
       "\n",
       "                                                            \n",
       "                             high    low   close    volume  \n",
       "time                                                        \n",
       "2022-01-14 00:00:00-05:00  465.09  459.9  464.68  84363989  "
      ]
     },
     "execution_count": 16,
     "metadata": {},
     "output_type": "execute_result"
    }
   ],
   "source": [
    "# Use the Alpaca get_barset function to get current closing prices the portfolio\n",
    "# Be sure to set the `df` property after the function to format the response object as a DataFrame\n",
    "\n",
    "prices_df = alpaca.get_barset(\n",
    "    tickers,\n",
    "    timeframe,\n",
    "    start=start_date,\n",
    "    end=end_date\n",
    ").df\n",
    "\n",
    "\n",
    "# Review the first 5 rows of the Alpaca DataFrame\n",
    "prices_df.head()\n"
   ]
  },
  {
   "cell_type": "markdown",
   "metadata": {},
   "source": [
    "#### Step 5: Navigating the Alpaca response DataFrame, select the `SPY` and `AGG` closing prices, and store them as variables."
   ]
  },
  {
   "cell_type": "code",
   "execution_count": 17,
   "metadata": {},
   "outputs": [
    {
     "name": "stdout",
     "output_type": "stream",
     "text": [
      "The AGG closing price is $ 112.17\n"
     ]
    }
   ],
   "source": [
    "# Access the closing price for AGG from the Alpaca DataFrame\n",
    "# Converting the value to a floating point number\n",
    "agg_close_price = float(prices_df[\"AGG\"][\"close\"][0])\n",
    "\n",
    "# Print the AGG closing price\n",
    "print(f\"The AGG closing price is ${agg_close_price: .2f}\")\n",
    "#print(agg_close_price)"
   ]
  },
  {
   "cell_type": "code",
   "execution_count": 18,
   "metadata": {},
   "outputs": [
    {
     "name": "stdout",
     "output_type": "stream",
     "text": [
      "The SPY closing price is $ 464.68\n"
     ]
    }
   ],
   "source": [
    "# Access the closing price for SPY from the Alpaca DataFrame\n",
    "# Converting the value to a floating point number\n",
    "spy_close_price = float(prices_df[\"SPY\"][\"close\"][0])\n",
    "\n",
    "# Print the SPY closing price\n",
    "print(f\"The SPY closing price is ${spy_close_price: .2f}\")\n"
   ]
  },
  {
   "cell_type": "markdown",
   "metadata": {},
   "source": [
    "#### Step 6: Calculate the value, in US dollars, of the current amount of shares in each of the stock and bond portions of the portfolio, and print the results."
   ]
  },
  {
   "cell_type": "code",
   "execution_count": 19,
   "metadata": {},
   "outputs": [
    {
     "name": "stdout",
     "output_type": "stream",
     "text": [
      "The AGG bond portfolio is valued at $ 22434.00\n"
     ]
    }
   ],
   "source": [
    "# Calculate the current value of the bond portion of the portfolio\n",
    "agg_value = agg_close_price*agg_shares\n",
    "\n",
    "# Print the current value of the bond portfolio\n",
    "print(f\"The AGG bond portfolio is valued at ${agg_value: .2f}\")\n"
   ]
  },
  {
   "cell_type": "code",
   "execution_count": 20,
   "metadata": {},
   "outputs": [
    {
     "name": "stdout",
     "output_type": "stream",
     "text": [
      "The SPY stock portfolio is valued at $51114.8\n"
     ]
    }
   ],
   "source": [
    "# Calculate the current value of the stock portion of the portfolio\n",
    "spy_value = spy_close_price*spy_shares\n",
    "\n",
    "# Print the current value of the stock portfolio\n",
    "print(f\"The SPY stock portfolio is valued at ${spy_value}\")\n"
   ]
  },
  {
   "cell_type": "code",
   "execution_count": 21,
   "metadata": {},
   "outputs": [
    {
     "name": "stdout",
     "output_type": "stream",
     "text": [
      "The total value of stocks and bond in this portfolio is $73548.8\n"
     ]
    }
   ],
   "source": [
    "# Calculate the total value of the stock and bond portion of the portfolio\n",
    "total_stocks_bonds = agg_value + spy_value\n",
    "\n",
    "# Print the current balance of the stock and bond portion of the portfolio\n",
    "print(f\"The total value of stocks and bond in this portfolio is ${total_stocks_bonds}\")\n"
   ]
  },
  {
   "cell_type": "code",
   "execution_count": 22,
   "metadata": {},
   "outputs": [
    {
     "name": "stdout",
     "output_type": "stream",
     "text": [
      "The total value of this portfolio with cryptocurrency, stocks and bonds is $ 139165.91\n"
     ]
    }
   ],
   "source": [
    "# Calculate the total value of the member's entire savings portfolio\n",
    "# Add the value of the cryptocurrency walled to the value of the total stocks and bonds\n",
    "total_portfolio = total_crypto_wallet + total_stocks_bonds\n",
    "\n",
    "# Print current cryptocurrency wallet balance\n",
    "print(f\"The total value of this portfolio with cryptocurrency, stocks and bonds is ${total_portfolio: .2f}\")\n"
   ]
  },
  {
   "cell_type": "markdown",
   "metadata": {},
   "source": [
    "### Evaluate the Emergency Fund\n",
    "\n",
    "In this section, you’ll use the valuations for the cryptocurrency wallet and for the stock and bond portions of the portfolio to determine if the credit union member has enough savings to build an emergency fund into their financial plan. To do this, complete the following steps:\n",
    "\n",
    "1. Create a Python list named `savings_data` that has two elements. The first element contains the total value of the cryptocurrency wallet. The second element contains the total value of the stock and bond portions of the portfolio.\n",
    "\n",
    "2. Use the `savings_data` list to create a Pandas DataFrame named `savings_df`, and then display this DataFrame. The function to create the DataFrame should take the following three parameters:\n",
    "\n",
    "    - `savings_data`: Use the list that you just created.\n",
    "\n",
    "    - `columns`: Set this parameter equal to a Python list with a single value called `amount`.\n",
    "\n",
    "    - `index`: Set this parameter equal to a Python list with the values of `crypto` and `stock/bond`.\n",
    "\n",
    "3. Use the `savings_df` DataFrame to plot a pie chart that visualizes the composition of the member’s portfolio. The y-axis of the pie chart uses `amount`. Be sure to add a title.\n",
    "\n",
    "4. Using Python, determine if the current portfolio has enough to create an emergency fund as part of the member’s financial plan. Ideally, an emergency fund should equal to three times the member’s monthly income. To do this, implement the following steps:\n",
    "\n",
    "    1. Create a variable named `emergency_fund_value`, and set it equal to three times the value of the member’s `monthly_income` of $12000. (You set this earlier in Part 1).\n",
    "\n",
    "    2. Create a series of three if statements to determine if the member’s total portfolio is large enough to fund the emergency portfolio:\n",
    "\n",
    "        1. If the total portfolio value is greater than the emergency fund value, display a message congratulating the member for having enough money in this fund.\n",
    "\n",
    "        2. Else if the total portfolio value is equal to the emergency fund value, display a message congratulating the member on reaching this important financial goal.\n",
    "\n",
    "        3. Else the total portfolio is less than the emergency fund value, so display a message showing how many dollars away the member is from reaching the goal. (Subtract the total portfolio value from the emergency fund value.)\n"
   ]
  },
  {
   "cell_type": "markdown",
   "metadata": {},
   "source": [
    "#### Step 1: Create a Python list named `savings_data` that has two elements. The first element contains the total value of the cryptocurrency wallet. The second element contains the total value of the stock and bond portions of the portfolio."
   ]
  },
  {
   "cell_type": "code",
   "execution_count": 23,
   "metadata": {},
   "outputs": [
    {
     "name": "stdout",
     "output_type": "stream",
     "text": [
      "[65617.106, 73548.8]\n"
     ]
    }
   ],
   "source": [
    "# Consolidate financial assets data into a Python list\n",
    "savings_data = [total_crypto_wallet, total_stocks_bonds]\n",
    "\n",
    "# Review the Python list savings_data\n",
    "print(savings_data)\n",
    "    "
   ]
  },
  {
   "cell_type": "markdown",
   "metadata": {},
   "source": [
    "#### Step 2: Use the `savings_data` list to create a Pandas DataFrame named `savings_df`, and then display this DataFrame. The function to create the DataFrame should take the following three parameters:\n",
    "\n",
    "- `savings_data`: Use the list that you just created.\n",
    "\n",
    "- `columns`: Set this parameter equal to a Python list with a single value called `amount`.\n",
    "\n",
    "- `index`: Set this parameter equal to a Python list with the values of `crypto` and `stock/bond`.\n"
   ]
  },
  {
   "cell_type": "code",
   "execution_count": 43,
   "metadata": {},
   "outputs": [
    {
     "data": {
      "text/html": [
       "<div>\n",
       "<style scoped>\n",
       "    .dataframe tbody tr th:only-of-type {\n",
       "        vertical-align: middle;\n",
       "    }\n",
       "\n",
       "    .dataframe tbody tr th {\n",
       "        vertical-align: top;\n",
       "    }\n",
       "\n",
       "    .dataframe thead th {\n",
       "        text-align: right;\n",
       "    }\n",
       "</style>\n",
       "<table border=\"1\" class=\"dataframe\">\n",
       "  <thead>\n",
       "    <tr style=\"text-align: right;\">\n",
       "      <th></th>\n",
       "      <th>amount</th>\n",
       "    </tr>\n",
       "  </thead>\n",
       "  <tbody>\n",
       "    <tr>\n",
       "      <th>crypto</th>\n",
       "      <td>65617.106</td>\n",
       "    </tr>\n",
       "    <tr>\n",
       "      <th>stock/bond</th>\n",
       "      <td>73548.800</td>\n",
       "    </tr>\n",
       "  </tbody>\n",
       "</table>\n",
       "</div>"
      ],
      "text/plain": [
       "               amount\n",
       "crypto      65617.106\n",
       "stock/bond  73548.800"
      ]
     },
     "execution_count": 43,
     "metadata": {},
     "output_type": "execute_result"
    }
   ],
   "source": [
    "# Create a Pandas DataFrame called savings_df \n",
    "columns=[\"amount\"]\n",
    "savings_df=pd.DataFrame(data=savings_data,index=[\"crypto\",\"stock/bond\"])\n",
    "savings_df.columns=columns\n",
    "\n",
    "# Display the savings_df DataFrame\n",
    "savings_df\n"
   ]
  },
  {
   "cell_type": "markdown",
   "metadata": {},
   "source": [
    "#### Step 3: Use the `savings_df` DataFrame to plot a pie chart that visualizes the composition of the member’s portfolio. The y-axis of the pie chart uses `amount`. Be sure to add a title."
   ]
  },
  {
   "cell_type": "code",
   "execution_count": 45,
   "metadata": {},
   "outputs": [
    {
     "data": {
      "text/plain": [
       "<AxesSubplot:title={'center':'Portfolio Value for Crypto and stocks/ bonds'}, ylabel='amount'>"
      ]
     },
     "execution_count": 45,
     "metadata": {},
     "output_type": "execute_result"
    },
    {
     "data": {
      "image/png": "[encoded data removed]",
      "text/plain": [
       "<Figure size 432x288 with 1 Axes>"
      ]
     },
     "metadata": {},
     "output_type": "display_data"
    }
   ],
   "source": [
    "# Plot the total value of the member's portfolio (crypto and stock/bond) in a pie chart\n",
    "\n",
    "savings_df.plot.pie(\n",
    "    y=\"amount\", title=\"Portfolio Value for Crypto and stocks/ bonds\"\n",
    ")\n"
   ]
  },
  {
   "cell_type": "markdown",
   "metadata": {},
   "source": [
    "#### Step 4: Using Python, determine if the current portfolio has enough to create an emergency fund as part of the member’s financial plan. Ideally, an emergency fund should equal to three times the member’s monthly income. To do this, implement the following steps:\n",
    "\n",
    "Step 1. Create a variable named `emergency_fund_value`, and set it equal to three times the value of the member’s `monthly_income` of 12000. (You set this earlier in Part 1).\n",
    "\n",
    "Step 2. Create a series of three if statements to determine if the member’s total portfolio is large enough to fund the emergency portfolio:\n",
    "\n",
    "* If the total portfolio value is greater than the emergency fund value, display a message congratulating the member for having enough money in this fund.\n",
    "\n",
    "* Else if the total portfolio value is equal to the emergency fund value, display a message congratulating the member on reaching this important financial goal.\n",
    "\n",
    "* Else the total portfolio is less than the emergency fund value, so display a message showing how many dollars away the member is from reaching the goal. (Subtract the total portfolio value from the emergency fund value.)\n"
   ]
  },
  {
   "cell_type": "markdown",
   "metadata": {},
   "source": [
    "##### Step 4-1: Create a variable named `emergency_fund_value`, and set it equal to three times the value of the member’s `monthly_income` of 12000. (You set this earlier in Part 1)."
   ]
  },
  {
   "cell_type": "code",
   "execution_count": 25,
   "metadata": {},
   "outputs": [
    {
     "name": "stdout",
     "output_type": "stream",
     "text": [
      "The emergency fund target is $36000.\n"
     ]
    }
   ],
   "source": [
    "emergency_fund_value = monthly_income*3\n",
    "print(f\"The emergency fund target is ${emergency_fund_value}.\")\n"
   ]
  },
  {
   "cell_type": "markdown",
   "metadata": {},
   "source": [
    "##### Step 4-2: Create a series of three if statements to determine if the member’s total portfolio is large enough to fund the emergency portfolio:\n",
    "\n",
    "* If the total portfolio value is greater than the emergency fund value, display a message congratulating the member for having enough money in this fund.\n",
    "\n",
    "* Else if the total portfolio value is equal to the emergency fund value, display a message congratulating the member on reaching this important financial goal.\n",
    "\n",
    "* Else the total portfolio is less than the emergency fund value, so display a message showing how many dollars away the member is from reaching the goal. (Subtract the total portfolio value from the emergency fund value.)"
   ]
  },
  {
   "cell_type": "code",
   "execution_count": 53,
   "metadata": {},
   "outputs": [
    {
     "name": "stdout",
     "output_type": "stream",
     "text": [
      "Congratulations! Your emergency fund is funded\n"
     ]
    }
   ],
   "source": [
    "# Evaluate the possibility of creating an emergency fund with 3 conditions:\n",
    "\n",
    "def emergency_fund_need(emergency_fund_value, total_portfolio):\n",
    "    if total_portfolio>emergency_fund_value:\n",
    "        print(\"Congratulations! Your emergency fund is funded\")\n",
    "    elif total_portfolio == emergency_fund_value:\n",
    "        print(\"Congratulations! You have the exact money you need\")\n",
    "    else:\n",
    "        additional_money_needed = emergency_fund_value - total_portfolio\n",
    "        print(f\"You need this much additional money to fund your emergency fund: ${additional_money_needed}\")\n",
    "        \n",
    "emergency_fund_need(emergency_fund_value, total_portfolio)        \n",
    "            "
   ]
  },
  {
   "cell_type": "markdown",
   "metadata": {},
   "source": [
    "## Part 2: Create a Financial Planner for Retirement"
   ]
  },
  {
   "cell_type": "markdown",
   "metadata": {},
   "source": [
    "### Create the Monte Carlo Simulation\n",
    "\n",
    "In this section, you’ll use the MCForecastTools library to create a Monte Carlo simulation for the member’s savings portfolio. To do this, complete the following steps:\n",
    "\n",
    "1. Make an API call via the Alpaca SDK to get 3 years of historical closing prices for a traditional 60/40 portfolio split: 60% stocks (SPY) and 40% bonds (AGG).\n",
    "\n",
    "2. Run a Monte Carlo simulation of 500 samples and 30 years for the 60/40 portfolio, and then plot the results.The following image shows the overlay line plot resulting from a simulation with these characteristics. However, because a random number generator is used to run each live Monte Carlo simulation, your image will differ slightly from this exact image:\n",
    "\n",
    "![A screenshot depicts the resulting plot.](Images/5-4-monte-carlo-line-plot.png)\n",
    "\n",
    "3. Plot the probability distribution of the Monte Carlo simulation. Plot the probability distribution of the Monte Carlo simulation. The following image shows the histogram plot resulting from a simulation with these characteristics. However, because a random number generator is used to run each live Monte Carlo simulation, your image will differ slightly from this exact image:\n",
    "\n",
    "![A screenshot depicts the histogram plot.](Images/5-4-monte-carlo-histogram.png)\n",
    "\n",
    "4. Generate the summary statistics for the Monte Carlo simulation.\n",
    "\n"
   ]
  },
  {
   "cell_type": "markdown",
   "metadata": {},
   "source": [
    "#### Step 1: Make an API call via the Alpaca SDK to get 3 years of historical closing prices for a traditional 60/40 portfolio split: 60% stocks (SPY) and 40% bonds (AGG)."
   ]
  },
  {
   "cell_type": "code",
   "execution_count": 27,
   "metadata": {},
   "outputs": [],
   "source": [
    "# Set start and end dates of 3 years back from your current date\n",
    "# Alternatively, you can use an end date of 2020-08-07 and work 3 years back from that date \n",
    "start_date = pd.Timestamp(\"2019-01-14\", tz=\"America/New_York\").isoformat()\n",
    "end_date = pd.Timestamp(\"2022-01-14\", tz=\"America/New_York\").isoformat()\n",
    "\n",
    "\n",
    "# Set number of rows to 1000 to retrieve the maximum amount of rows\n",
    "limit_rows=1000"
   ]
  },
  {
   "cell_type": "code",
   "execution_count": 28,
   "metadata": {},
   "outputs": [
    {
     "data": {
      "text/html": [
       "<div>\n",
       "<style scoped>\n",
       "    .dataframe tbody tr th:only-of-type {\n",
       "        vertical-align: middle;\n",
       "    }\n",
       "\n",
       "    .dataframe tbody tr th {\n",
       "        vertical-align: top;\n",
       "    }\n",
       "\n",
       "    .dataframe thead tr th {\n",
       "        text-align: left;\n",
       "    }\n",
       "\n",
       "    .dataframe thead tr:last-of-type th {\n",
       "        text-align: right;\n",
       "    }\n",
       "</style>\n",
       "<table border=\"1\" class=\"dataframe\">\n",
       "  <thead>\n",
       "    <tr>\n",
       "      <th></th>\n",
       "      <th colspan=\"5\" halign=\"left\">AGG</th>\n",
       "      <th colspan=\"5\" halign=\"left\">SPY</th>\n",
       "    </tr>\n",
       "    <tr>\n",
       "      <th></th>\n",
       "      <th>open</th>\n",
       "      <th>high</th>\n",
       "      <th>low</th>\n",
       "      <th>close</th>\n",
       "      <th>volume</th>\n",
       "      <th>open</th>\n",
       "      <th>high</th>\n",
       "      <th>low</th>\n",
       "      <th>close</th>\n",
       "      <th>volume</th>\n",
       "    </tr>\n",
       "    <tr>\n",
       "      <th>time</th>\n",
       "      <th></th>\n",
       "      <th></th>\n",
       "      <th></th>\n",
       "      <th></th>\n",
       "      <th></th>\n",
       "      <th></th>\n",
       "      <th></th>\n",
       "      <th></th>\n",
       "      <th></th>\n",
       "      <th></th>\n",
       "    </tr>\n",
       "  </thead>\n",
       "  <tbody>\n",
       "    <tr>\n",
       "      <th>2019-01-14 00:00:00-05:00</th>\n",
       "      <td>106.57</td>\n",
       "      <td>106.6099</td>\n",
       "      <td>106.4000</td>\n",
       "      <td>106.440</td>\n",
       "      <td>6544627.0</td>\n",
       "      <td>256.86</td>\n",
       "      <td>258.3000</td>\n",
       "      <td>256.410</td>\n",
       "      <td>257.69</td>\n",
       "      <td>51552561</td>\n",
       "    </tr>\n",
       "    <tr>\n",
       "      <th>2019-01-15 00:00:00-05:00</th>\n",
       "      <td>106.54</td>\n",
       "      <td>106.5500</td>\n",
       "      <td>106.3300</td>\n",
       "      <td>106.400</td>\n",
       "      <td>3370918.0</td>\n",
       "      <td>257.82</td>\n",
       "      <td>260.7000</td>\n",
       "      <td>257.250</td>\n",
       "      <td>260.21</td>\n",
       "      <td>72130969</td>\n",
       "    </tr>\n",
       "    <tr>\n",
       "      <th>2019-01-16 00:00:00-05:00</th>\n",
       "      <td>106.33</td>\n",
       "      <td>106.5200</td>\n",
       "      <td>105.7500</td>\n",
       "      <td>106.475</td>\n",
       "      <td>3531236.0</td>\n",
       "      <td>260.83</td>\n",
       "      <td>261.9666</td>\n",
       "      <td>260.600</td>\n",
       "      <td>260.94</td>\n",
       "      <td>59299089</td>\n",
       "    </tr>\n",
       "    <tr>\n",
       "      <th>2019-01-17 00:00:00-05:00</th>\n",
       "      <td>106.53</td>\n",
       "      <td>106.5300</td>\n",
       "      <td>106.3350</td>\n",
       "      <td>106.430</td>\n",
       "      <td>5184640.0</td>\n",
       "      <td>260.01</td>\n",
       "      <td>263.9200</td>\n",
       "      <td>259.960</td>\n",
       "      <td>262.88</td>\n",
       "      <td>79893207</td>\n",
       "    </tr>\n",
       "    <tr>\n",
       "      <th>2019-01-18 00:00:00-05:00</th>\n",
       "      <td>106.37</td>\n",
       "      <td>106.4799</td>\n",
       "      <td>106.2803</td>\n",
       "      <td>106.325</td>\n",
       "      <td>5666187.0</td>\n",
       "      <td>264.98</td>\n",
       "      <td>266.9800</td>\n",
       "      <td>262.998</td>\n",
       "      <td>266.16</td>\n",
       "      <td>99666883</td>\n",
       "    </tr>\n",
       "  </tbody>\n",
       "</table>\n",
       "</div>"
      ],
      "text/plain": [
       "                              AGG                                          \\\n",
       "                             open      high       low    close     volume   \n",
       "time                                                                        \n",
       "2019-01-14 00:00:00-05:00  106.57  106.6099  106.4000  106.440  6544627.0   \n",
       "2019-01-15 00:00:00-05:00  106.54  106.5500  106.3300  106.400  3370918.0   \n",
       "2019-01-16 00:00:00-05:00  106.33  106.5200  105.7500  106.475  3531236.0   \n",
       "2019-01-17 00:00:00-05:00  106.53  106.5300  106.3350  106.430  5184640.0   \n",
       "2019-01-18 00:00:00-05:00  106.37  106.4799  106.2803  106.325  5666187.0   \n",
       "\n",
       "                              SPY                                       \n",
       "                             open      high      low   close    volume  \n",
       "time                                                                    \n",
       "2019-01-14 00:00:00-05:00  256.86  258.3000  256.410  257.69  51552561  \n",
       "2019-01-15 00:00:00-05:00  257.82  260.7000  257.250  260.21  72130969  \n",
       "2019-01-16 00:00:00-05:00  260.83  261.9666  260.600  260.94  59299089  \n",
       "2019-01-17 00:00:00-05:00  260.01  263.9200  259.960  262.88  79893207  \n",
       "2019-01-18 00:00:00-05:00  264.98  266.9800  262.998  266.16  99666883  "
      ]
     },
     "metadata": {},
     "output_type": "display_data"
    },
    {
     "data": {
      "text/html": [
       "<div>\n",
       "<style scoped>\n",
       "    .dataframe tbody tr th:only-of-type {\n",
       "        vertical-align: middle;\n",
       "    }\n",
       "\n",
       "    .dataframe tbody tr th {\n",
       "        vertical-align: top;\n",
       "    }\n",
       "\n",
       "    .dataframe thead tr th {\n",
       "        text-align: left;\n",
       "    }\n",
       "\n",
       "    .dataframe thead tr:last-of-type th {\n",
       "        text-align: right;\n",
       "    }\n",
       "</style>\n",
       "<table border=\"1\" class=\"dataframe\">\n",
       "  <thead>\n",
       "    <tr>\n",
       "      <th></th>\n",
       "      <th colspan=\"5\" halign=\"left\">AGG</th>\n",
       "      <th colspan=\"5\" halign=\"left\">SPY</th>\n",
       "    </tr>\n",
       "    <tr>\n",
       "      <th></th>\n",
       "      <th>open</th>\n",
       "      <th>high</th>\n",
       "      <th>low</th>\n",
       "      <th>close</th>\n",
       "      <th>volume</th>\n",
       "      <th>open</th>\n",
       "      <th>high</th>\n",
       "      <th>low</th>\n",
       "      <th>close</th>\n",
       "      <th>volume</th>\n",
       "    </tr>\n",
       "    <tr>\n",
       "      <th>time</th>\n",
       "      <th></th>\n",
       "      <th></th>\n",
       "      <th></th>\n",
       "      <th></th>\n",
       "      <th></th>\n",
       "      <th></th>\n",
       "      <th></th>\n",
       "      <th></th>\n",
       "      <th></th>\n",
       "      <th></th>\n",
       "    </tr>\n",
       "  </thead>\n",
       "  <tbody>\n",
       "    <tr>\n",
       "      <th>2022-01-10 00:00:00-05:00</th>\n",
       "      <td>112.23</td>\n",
       "      <td>112.420</td>\n",
       "      <td>112.1427</td>\n",
       "      <td>112.41</td>\n",
       "      <td>6475269.0</td>\n",
       "      <td>462.70</td>\n",
       "      <td>465.74</td>\n",
       "      <td>456.5973</td>\n",
       "      <td>465.56</td>\n",
       "      <td>106360848</td>\n",
       "    </tr>\n",
       "    <tr>\n",
       "      <th>2022-01-11 00:00:00-05:00</th>\n",
       "      <td>112.33</td>\n",
       "      <td>112.630</td>\n",
       "      <td>112.2650</td>\n",
       "      <td>112.61</td>\n",
       "      <td>5723770.0</td>\n",
       "      <td>465.22</td>\n",
       "      <td>469.85</td>\n",
       "      <td>462.0500</td>\n",
       "      <td>469.74</td>\n",
       "      <td>63249917</td>\n",
       "    </tr>\n",
       "    <tr>\n",
       "      <th>2022-01-12 00:00:00-05:00</th>\n",
       "      <td>112.72</td>\n",
       "      <td>112.785</td>\n",
       "      <td>112.5800</td>\n",
       "      <td>112.60</td>\n",
       "      <td>6159865.0</td>\n",
       "      <td>471.59</td>\n",
       "      <td>473.20</td>\n",
       "      <td>468.9400</td>\n",
       "      <td>471.06</td>\n",
       "      <td>58775301</td>\n",
       "    </tr>\n",
       "    <tr>\n",
       "      <th>2022-01-13 00:00:00-05:00</th>\n",
       "      <td>112.60</td>\n",
       "      <td>112.800</td>\n",
       "      <td>112.5100</td>\n",
       "      <td>112.80</td>\n",
       "      <td>7925476.0</td>\n",
       "      <td>472.21</td>\n",
       "      <td>472.88</td>\n",
       "      <td>463.4400</td>\n",
       "      <td>464.54</td>\n",
       "      <td>79071832</td>\n",
       "    </tr>\n",
       "    <tr>\n",
       "      <th>2022-01-14 00:00:00-05:00</th>\n",
       "      <td>112.53</td>\n",
       "      <td>112.545</td>\n",
       "      <td>112.1500</td>\n",
       "      <td>112.17</td>\n",
       "      <td>8362916.0</td>\n",
       "      <td>461.19</td>\n",
       "      <td>465.09</td>\n",
       "      <td>459.9000</td>\n",
       "      <td>464.68</td>\n",
       "      <td>84363989</td>\n",
       "    </tr>\n",
       "  </tbody>\n",
       "</table>\n",
       "</div>"
      ],
      "text/plain": [
       "                              AGG                                        \\\n",
       "                             open     high       low   close     volume   \n",
       "time                                                                      \n",
       "2022-01-10 00:00:00-05:00  112.23  112.420  112.1427  112.41  6475269.0   \n",
       "2022-01-11 00:00:00-05:00  112.33  112.630  112.2650  112.61  5723770.0   \n",
       "2022-01-12 00:00:00-05:00  112.72  112.785  112.5800  112.60  6159865.0   \n",
       "2022-01-13 00:00:00-05:00  112.60  112.800  112.5100  112.80  7925476.0   \n",
       "2022-01-14 00:00:00-05:00  112.53  112.545  112.1500  112.17  8362916.0   \n",
       "\n",
       "                              SPY                                       \n",
       "                             open    high       low   close     volume  \n",
       "time                                                                    \n",
       "2022-01-10 00:00:00-05:00  462.70  465.74  456.5973  465.56  106360848  \n",
       "2022-01-11 00:00:00-05:00  465.22  469.85  462.0500  469.74   63249917  \n",
       "2022-01-12 00:00:00-05:00  471.59  473.20  468.9400  471.06   58775301  \n",
       "2022-01-13 00:00:00-05:00  472.21  472.88  463.4400  464.54   79071832  \n",
       "2022-01-14 00:00:00-05:00  461.19  465.09  459.9000  464.68   84363989  "
      ]
     },
     "metadata": {},
     "output_type": "display_data"
    }
   ],
   "source": [
    "# Use the Alpaca get_barset function to make the API call to get the 3 years worth of pricing data\n",
    "# The tickers and timeframe parameters should have been set in Part 1 of this activity \n",
    "# The start and end dates should be updated with the information set above\n",
    "# Remember to add the df property to the end of the call so the response is returned as a DataFrame\n",
    "\n",
    "prices_df = alpaca.get_barset(\n",
    "    tickers,\n",
    "    timeframe,\n",
    "    start=start_date,\n",
    "    end=end_date,\n",
    "    limit=limit_rows\n",
    ").df\n",
    "\n",
    "# Display both the first and last five rows of the DataFrame\n",
    "display(prices_df.head())\n",
    "display(prices_df.tail())\n",
    "\n"
   ]
  },
  {
   "cell_type": "markdown",
   "metadata": {},
   "source": [
    "#### Step 2: Run a Monte Carlo simulation of 500 samples and 30 years for the 60/40 portfolio, and then plot the results."
   ]
  },
  {
   "cell_type": "code",
   "execution_count": 29,
   "metadata": {},
   "outputs": [
    {
     "data": {
      "text/html": [
       "<div>\n",
       "<style scoped>\n",
       "    .dataframe tbody tr th:only-of-type {\n",
       "        vertical-align: middle;\n",
       "    }\n",
       "\n",
       "    .dataframe tbody tr th {\n",
       "        vertical-align: top;\n",
       "    }\n",
       "\n",
       "    .dataframe thead tr th {\n",
       "        text-align: left;\n",
       "    }\n",
       "\n",
       "    .dataframe thead tr:last-of-type th {\n",
       "        text-align: right;\n",
       "    }\n",
       "</style>\n",
       "<table border=\"1\" class=\"dataframe\">\n",
       "  <thead>\n",
       "    <tr>\n",
       "      <th></th>\n",
       "      <th colspan=\"6\" halign=\"left\">AGG</th>\n",
       "      <th colspan=\"6\" halign=\"left\">SPY</th>\n",
       "    </tr>\n",
       "    <tr>\n",
       "      <th></th>\n",
       "      <th>open</th>\n",
       "      <th>high</th>\n",
       "      <th>low</th>\n",
       "      <th>close</th>\n",
       "      <th>volume</th>\n",
       "      <th>daily_return</th>\n",
       "      <th>open</th>\n",
       "      <th>high</th>\n",
       "      <th>low</th>\n",
       "      <th>close</th>\n",
       "      <th>volume</th>\n",
       "      <th>daily_return</th>\n",
       "    </tr>\n",
       "    <tr>\n",
       "      <th>time</th>\n",
       "      <th></th>\n",
       "      <th></th>\n",
       "      <th></th>\n",
       "      <th></th>\n",
       "      <th></th>\n",
       "      <th></th>\n",
       "      <th></th>\n",
       "      <th></th>\n",
       "      <th></th>\n",
       "      <th></th>\n",
       "      <th></th>\n",
       "      <th></th>\n",
       "    </tr>\n",
       "  </thead>\n",
       "  <tbody>\n",
       "    <tr>\n",
       "      <th>2019-01-14 00:00:00-05:00</th>\n",
       "      <td>106.57</td>\n",
       "      <td>106.6099</td>\n",
       "      <td>106.4000</td>\n",
       "      <td>106.440</td>\n",
       "      <td>6544627.0</td>\n",
       "      <td>NaN</td>\n",
       "      <td>256.86</td>\n",
       "      <td>258.3000</td>\n",
       "      <td>256.410</td>\n",
       "      <td>257.69</td>\n",
       "      <td>51552561</td>\n",
       "      <td>NaN</td>\n",
       "    </tr>\n",
       "    <tr>\n",
       "      <th>2019-01-15 00:00:00-05:00</th>\n",
       "      <td>106.54</td>\n",
       "      <td>106.5500</td>\n",
       "      <td>106.3300</td>\n",
       "      <td>106.400</td>\n",
       "      <td>3370918.0</td>\n",
       "      <td>-0.000376</td>\n",
       "      <td>257.82</td>\n",
       "      <td>260.7000</td>\n",
       "      <td>257.250</td>\n",
       "      <td>260.21</td>\n",
       "      <td>72130969</td>\n",
       "      <td>0.009779</td>\n",
       "    </tr>\n",
       "    <tr>\n",
       "      <th>2019-01-16 00:00:00-05:00</th>\n",
       "      <td>106.33</td>\n",
       "      <td>106.5200</td>\n",
       "      <td>105.7500</td>\n",
       "      <td>106.475</td>\n",
       "      <td>3531236.0</td>\n",
       "      <td>0.000705</td>\n",
       "      <td>260.83</td>\n",
       "      <td>261.9666</td>\n",
       "      <td>260.600</td>\n",
       "      <td>260.94</td>\n",
       "      <td>59299089</td>\n",
       "      <td>0.002805</td>\n",
       "    </tr>\n",
       "    <tr>\n",
       "      <th>2019-01-17 00:00:00-05:00</th>\n",
       "      <td>106.53</td>\n",
       "      <td>106.5300</td>\n",
       "      <td>106.3350</td>\n",
       "      <td>106.430</td>\n",
       "      <td>5184640.0</td>\n",
       "      <td>-0.000423</td>\n",
       "      <td>260.01</td>\n",
       "      <td>263.9200</td>\n",
       "      <td>259.960</td>\n",
       "      <td>262.88</td>\n",
       "      <td>79893207</td>\n",
       "      <td>0.007435</td>\n",
       "    </tr>\n",
       "    <tr>\n",
       "      <th>2019-01-18 00:00:00-05:00</th>\n",
       "      <td>106.37</td>\n",
       "      <td>106.4799</td>\n",
       "      <td>106.2803</td>\n",
       "      <td>106.325</td>\n",
       "      <td>5666187.0</td>\n",
       "      <td>-0.000987</td>\n",
       "      <td>264.98</td>\n",
       "      <td>266.9800</td>\n",
       "      <td>262.998</td>\n",
       "      <td>266.16</td>\n",
       "      <td>99666883</td>\n",
       "      <td>0.012477</td>\n",
       "    </tr>\n",
       "  </tbody>\n",
       "</table>\n",
       "</div>"
      ],
      "text/plain": [
       "                              AGG                                          \\\n",
       "                             open      high       low    close     volume   \n",
       "time                                                                        \n",
       "2019-01-14 00:00:00-05:00  106.57  106.6099  106.4000  106.440  6544627.0   \n",
       "2019-01-15 00:00:00-05:00  106.54  106.5500  106.3300  106.400  3370918.0   \n",
       "2019-01-16 00:00:00-05:00  106.33  106.5200  105.7500  106.475  3531236.0   \n",
       "2019-01-17 00:00:00-05:00  106.53  106.5300  106.3350  106.430  5184640.0   \n",
       "2019-01-18 00:00:00-05:00  106.37  106.4799  106.2803  106.325  5666187.0   \n",
       "\n",
       "                                           SPY                             \\\n",
       "                          daily_return    open      high      low   close   \n",
       "time                                                                        \n",
       "2019-01-14 00:00:00-05:00          NaN  256.86  258.3000  256.410  257.69   \n",
       "2019-01-15 00:00:00-05:00    -0.000376  257.82  260.7000  257.250  260.21   \n",
       "2019-01-16 00:00:00-05:00     0.000705  260.83  261.9666  260.600  260.94   \n",
       "2019-01-17 00:00:00-05:00    -0.000423  260.01  263.9200  259.960  262.88   \n",
       "2019-01-18 00:00:00-05:00    -0.000987  264.98  266.9800  262.998  266.16   \n",
       "\n",
       "                                                  \n",
       "                             volume daily_return  \n",
       "time                                              \n",
       "2019-01-14 00:00:00-05:00  51552561          NaN  \n",
       "2019-01-15 00:00:00-05:00  72130969     0.009779  \n",
       "2019-01-16 00:00:00-05:00  59299089     0.002805  \n",
       "2019-01-17 00:00:00-05:00  79893207     0.007435  \n",
       "2019-01-18 00:00:00-05:00  99666883     0.012477  "
      ]
     },
     "execution_count": 29,
     "metadata": {},
     "output_type": "execute_result"
    }
   ],
   "source": [
    "# Configure the Monte Carlo simulation to forecast 30 years cumulative returns\n",
    "# The weights should be split 40% to AGG and 60% to SPY.\n",
    "# Run 500 samples.\n",
    "\n",
    "MC_thirtyyear = MCSimulation(\n",
    "  portfolio_data = prices_df,\n",
    "  weights = [.40,.60],\n",
    "  num_simulation = 500,\n",
    "  num_trading_days = 252*30\n",
    ")\n",
    "\n",
    "# Review the simulation input data\n",
    "MC_thirtyyear.portfolio_data.head()\n"
   ]
  },
  {
   "cell_type": "code",
   "execution_count": 30,
   "metadata": {},
   "outputs": [
    {
     "name": "stdout",
     "output_type": "stream",
     "text": [
      "Running Monte Carlo simulation number 0.\n",
      "Running Monte Carlo simulation number 10.\n",
      "Running Monte Carlo simulation number 20.\n",
      "Running Monte Carlo simulation number 30.\n",
      "Running Monte Carlo simulation number 40.\n",
      "Running Monte Carlo simulation number 50.\n",
      "Running Monte Carlo simulation number 60.\n",
      "Running Monte Carlo simulation number 70.\n",
      "Running Monte Carlo simulation number 80.\n",
      "Running Monte Carlo simulation number 90.\n",
      "Running Monte Carlo simulation number 100.\n"
     ]
    },
    {
     "name": "stderr",
     "output_type": "stream",
     "text": [
      "C:\\Users\\awh_a\\Fintech_Workspace\\05_Module\\Mod5_Challenge\\MCForecastTools.py:117: PerformanceWarning: DataFrame is highly fragmented.  This is usually the result of calling `frame.insert` many times, which has poor performance.  Consider joining all columns at once using pd.concat(axis=1) instead.  To get a de-fragmented frame, use `newframe = frame.copy()`\n",
      "  portfolio_cumulative_returns[n] = (1 + sim_df.fillna(0)).cumprod()\n"
     ]
    },
    {
     "name": "stdout",
     "output_type": "stream",
     "text": [
      "Running Monte Carlo simulation number 110.\n",
      "Running Monte Carlo simulation number 120.\n",
      "Running Monte Carlo simulation number 130.\n",
      "Running Monte Carlo simulation number 140.\n",
      "Running Monte Carlo simulation number 150.\n",
      "Running Monte Carlo simulation number 160.\n",
      "Running Monte Carlo simulation number 170.\n",
      "Running Monte Carlo simulation number 180.\n",
      "Running Monte Carlo simulation number 190.\n",
      "Running Monte Carlo simulation number 200.\n",
      "Running Monte Carlo simulation number 210.\n",
      "Running Monte Carlo simulation number 220.\n",
      "Running Monte Carlo simulation number 230.\n",
      "Running Monte Carlo simulation number 240.\n",
      "Running Monte Carlo simulation number 250.\n",
      "Running Monte Carlo simulation number 260.\n",
      "Running Monte Carlo simulation number 270.\n",
      "Running Monte Carlo simulation number 280.\n",
      "Running Monte Carlo simulation number 290.\n",
      "Running Monte Carlo simulation number 300.\n",
      "Running Monte Carlo simulation number 310.\n",
      "Running Monte Carlo simulation number 320.\n",
      "Running Monte Carlo simulation number 330.\n",
      "Running Monte Carlo simulation number 340.\n",
      "Running Monte Carlo simulation number 350.\n",
      "Running Monte Carlo simulation number 360.\n",
      "Running Monte Carlo simulation number 370.\n",
      "Running Monte Carlo simulation number 380.\n",
      "Running Monte Carlo simulation number 390.\n",
      "Running Monte Carlo simulation number 400.\n",
      "Running Monte Carlo simulation number 410.\n",
      "Running Monte Carlo simulation number 420.\n",
      "Running Monte Carlo simulation number 430.\n",
      "Running Monte Carlo simulation number 440.\n",
      "Running Monte Carlo simulation number 450.\n",
      "Running Monte Carlo simulation number 460.\n",
      "Running Monte Carlo simulation number 470.\n",
      "Running Monte Carlo simulation number 480.\n",
      "Running Monte Carlo simulation number 490.\n"
     ]
    },
    {
     "data": {
      "text/html": [
       "<div>\n",
       "<style scoped>\n",
       "    .dataframe tbody tr th:only-of-type {\n",
       "        vertical-align: middle;\n",
       "    }\n",
       "\n",
       "    .dataframe tbody tr th {\n",
       "        vertical-align: top;\n",
       "    }\n",
       "\n",
       "    .dataframe thead th {\n",
       "        text-align: right;\n",
       "    }\n",
       "</style>\n",
       "<table border=\"1\" class=\"dataframe\">\n",
       "  <thead>\n",
       "    <tr style=\"text-align: right;\">\n",
       "      <th></th>\n",
       "      <th>0</th>\n",
       "      <th>1</th>\n",
       "      <th>2</th>\n",
       "      <th>3</th>\n",
       "      <th>4</th>\n",
       "      <th>5</th>\n",
       "      <th>6</th>\n",
       "      <th>7</th>\n",
       "      <th>8</th>\n",
       "      <th>9</th>\n",
       "      <th>...</th>\n",
       "      <th>490</th>\n",
       "      <th>491</th>\n",
       "      <th>492</th>\n",
       "      <th>493</th>\n",
       "      <th>494</th>\n",
       "      <th>495</th>\n",
       "      <th>496</th>\n",
       "      <th>497</th>\n",
       "      <th>498</th>\n",
       "      <th>499</th>\n",
       "    </tr>\n",
       "  </thead>\n",
       "  <tbody>\n",
       "    <tr>\n",
       "      <th>0</th>\n",
       "      <td>1.000000</td>\n",
       "      <td>1.000000</td>\n",
       "      <td>1.000000</td>\n",
       "      <td>1.000000</td>\n",
       "      <td>1.000000</td>\n",
       "      <td>1.000000</td>\n",
       "      <td>1.000000</td>\n",
       "      <td>1.000000</td>\n",
       "      <td>1.000000</td>\n",
       "      <td>1.000000</td>\n",
       "      <td>...</td>\n",
       "      <td>1.000000</td>\n",
       "      <td>1.000000</td>\n",
       "      <td>1.000000</td>\n",
       "      <td>1.000000</td>\n",
       "      <td>1.000000</td>\n",
       "      <td>1.000000</td>\n",
       "      <td>1.000000</td>\n",
       "      <td>1.000000</td>\n",
       "      <td>1.000000</td>\n",
       "      <td>1.000000</td>\n",
       "    </tr>\n",
       "    <tr>\n",
       "      <th>1</th>\n",
       "      <td>0.991863</td>\n",
       "      <td>1.004144</td>\n",
       "      <td>1.015135</td>\n",
       "      <td>1.008184</td>\n",
       "      <td>0.987587</td>\n",
       "      <td>1.010039</td>\n",
       "      <td>1.000063</td>\n",
       "      <td>1.000480</td>\n",
       "      <td>1.012641</td>\n",
       "      <td>1.006434</td>\n",
       "      <td>...</td>\n",
       "      <td>1.013923</td>\n",
       "      <td>0.993398</td>\n",
       "      <td>0.998546</td>\n",
       "      <td>1.012785</td>\n",
       "      <td>1.007741</td>\n",
       "      <td>1.000063</td>\n",
       "      <td>0.991802</td>\n",
       "      <td>0.996387</td>\n",
       "      <td>0.992295</td>\n",
       "      <td>1.000064</td>\n",
       "    </tr>\n",
       "    <tr>\n",
       "      <th>2</th>\n",
       "      <td>0.998230</td>\n",
       "      <td>0.991121</td>\n",
       "      <td>1.017270</td>\n",
       "      <td>1.014452</td>\n",
       "      <td>0.990550</td>\n",
       "      <td>1.006558</td>\n",
       "      <td>1.000032</td>\n",
       "      <td>0.994668</td>\n",
       "      <td>1.020145</td>\n",
       "      <td>1.019953</td>\n",
       "      <td>...</td>\n",
       "      <td>1.007250</td>\n",
       "      <td>0.995568</td>\n",
       "      <td>1.001288</td>\n",
       "      <td>1.027758</td>\n",
       "      <td>0.998390</td>\n",
       "      <td>1.009628</td>\n",
       "      <td>0.987867</td>\n",
       "      <td>0.994517</td>\n",
       "      <td>0.986457</td>\n",
       "      <td>1.005099</td>\n",
       "    </tr>\n",
       "    <tr>\n",
       "      <th>3</th>\n",
       "      <td>0.992439</td>\n",
       "      <td>0.979783</td>\n",
       "      <td>1.012407</td>\n",
       "      <td>1.010579</td>\n",
       "      <td>0.985204</td>\n",
       "      <td>1.009583</td>\n",
       "      <td>0.987024</td>\n",
       "      <td>0.996566</td>\n",
       "      <td>1.011483</td>\n",
       "      <td>1.032397</td>\n",
       "      <td>...</td>\n",
       "      <td>1.013615</td>\n",
       "      <td>0.990990</td>\n",
       "      <td>1.006580</td>\n",
       "      <td>1.017736</td>\n",
       "      <td>0.994616</td>\n",
       "      <td>1.012671</td>\n",
       "      <td>0.980722</td>\n",
       "      <td>0.995745</td>\n",
       "      <td>0.990295</td>\n",
       "      <td>0.996817</td>\n",
       "    </tr>\n",
       "    <tr>\n",
       "      <th>4</th>\n",
       "      <td>0.987071</td>\n",
       "      <td>0.982268</td>\n",
       "      <td>1.018219</td>\n",
       "      <td>1.006070</td>\n",
       "      <td>0.984154</td>\n",
       "      <td>1.006900</td>\n",
       "      <td>1.004906</td>\n",
       "      <td>1.004886</td>\n",
       "      <td>1.014416</td>\n",
       "      <td>1.046895</td>\n",
       "      <td>...</td>\n",
       "      <td>1.011271</td>\n",
       "      <td>0.997972</td>\n",
       "      <td>1.004102</td>\n",
       "      <td>1.027499</td>\n",
       "      <td>0.992062</td>\n",
       "      <td>0.995535</td>\n",
       "      <td>0.985532</td>\n",
       "      <td>0.999895</td>\n",
       "      <td>0.998891</td>\n",
       "      <td>0.985694</td>\n",
       "    </tr>\n",
       "    <tr>\n",
       "      <th>...</th>\n",
       "      <td>...</td>\n",
       "      <td>...</td>\n",
       "      <td>...</td>\n",
       "      <td>...</td>\n",
       "      <td>...</td>\n",
       "      <td>...</td>\n",
       "      <td>...</td>\n",
       "      <td>...</td>\n",
       "      <td>...</td>\n",
       "      <td>...</td>\n",
       "      <td>...</td>\n",
       "      <td>...</td>\n",
       "      <td>...</td>\n",
       "      <td>...</td>\n",
       "      <td>...</td>\n",
       "      <td>...</td>\n",
       "      <td>...</td>\n",
       "      <td>...</td>\n",
       "      <td>...</td>\n",
       "      <td>...</td>\n",
       "      <td>...</td>\n",
       "    </tr>\n",
       "    <tr>\n",
       "      <th>7556</th>\n",
       "      <td>47.951108</td>\n",
       "      <td>55.058759</td>\n",
       "      <td>14.770347</td>\n",
       "      <td>147.553227</td>\n",
       "      <td>22.293058</td>\n",
       "      <td>22.274063</td>\n",
       "      <td>40.307020</td>\n",
       "      <td>36.434740</td>\n",
       "      <td>39.095383</td>\n",
       "      <td>75.488334</td>\n",
       "      <td>...</td>\n",
       "      <td>20.077846</td>\n",
       "      <td>110.242295</td>\n",
       "      <td>122.308177</td>\n",
       "      <td>244.380920</td>\n",
       "      <td>83.733770</td>\n",
       "      <td>37.098794</td>\n",
       "      <td>24.107171</td>\n",
       "      <td>156.151790</td>\n",
       "      <td>143.046306</td>\n",
       "      <td>93.356692</td>\n",
       "    </tr>\n",
       "    <tr>\n",
       "      <th>7557</th>\n",
       "      <td>47.331077</td>\n",
       "      <td>56.214944</td>\n",
       "      <td>14.871469</td>\n",
       "      <td>148.760107</td>\n",
       "      <td>22.201263</td>\n",
       "      <td>22.073730</td>\n",
       "      <td>39.666828</td>\n",
       "      <td>36.725065</td>\n",
       "      <td>39.187937</td>\n",
       "      <td>76.219480</td>\n",
       "      <td>...</td>\n",
       "      <td>20.019111</td>\n",
       "      <td>109.553264</td>\n",
       "      <td>123.581219</td>\n",
       "      <td>248.990914</td>\n",
       "      <td>84.256997</td>\n",
       "      <td>37.017000</td>\n",
       "      <td>24.411378</td>\n",
       "      <td>156.587343</td>\n",
       "      <td>144.947443</td>\n",
       "      <td>94.082264</td>\n",
       "    </tr>\n",
       "    <tr>\n",
       "      <th>7558</th>\n",
       "      <td>47.970277</td>\n",
       "      <td>56.219777</td>\n",
       "      <td>14.840530</td>\n",
       "      <td>149.246169</td>\n",
       "      <td>22.564471</td>\n",
       "      <td>22.018679</td>\n",
       "      <td>39.533388</td>\n",
       "      <td>37.067812</td>\n",
       "      <td>38.957470</td>\n",
       "      <td>76.847429</td>\n",
       "      <td>...</td>\n",
       "      <td>20.030903</td>\n",
       "      <td>110.277357</td>\n",
       "      <td>122.393309</td>\n",
       "      <td>248.786088</td>\n",
       "      <td>84.646654</td>\n",
       "      <td>36.618494</td>\n",
       "      <td>24.782772</td>\n",
       "      <td>156.477706</td>\n",
       "      <td>147.701976</td>\n",
       "      <td>93.923625</td>\n",
       "    </tr>\n",
       "    <tr>\n",
       "      <th>7559</th>\n",
       "      <td>47.236550</td>\n",
       "      <td>56.367645</td>\n",
       "      <td>15.086376</td>\n",
       "      <td>149.003059</td>\n",
       "      <td>22.753238</td>\n",
       "      <td>21.861872</td>\n",
       "      <td>38.952000</td>\n",
       "      <td>36.977178</td>\n",
       "      <td>38.647783</td>\n",
       "      <td>76.528661</td>\n",
       "      <td>...</td>\n",
       "      <td>19.891920</td>\n",
       "      <td>110.919237</td>\n",
       "      <td>123.210942</td>\n",
       "      <td>247.311483</td>\n",
       "      <td>85.002903</td>\n",
       "      <td>36.545576</td>\n",
       "      <td>24.855637</td>\n",
       "      <td>156.960194</td>\n",
       "      <td>147.967818</td>\n",
       "      <td>93.933500</td>\n",
       "    </tr>\n",
       "    <tr>\n",
       "      <th>7560</th>\n",
       "      <td>47.604024</td>\n",
       "      <td>56.911110</td>\n",
       "      <td>14.986322</td>\n",
       "      <td>149.640108</td>\n",
       "      <td>22.872068</td>\n",
       "      <td>21.802604</td>\n",
       "      <td>39.012791</td>\n",
       "      <td>37.289327</td>\n",
       "      <td>39.196882</td>\n",
       "      <td>76.281805</td>\n",
       "      <td>...</td>\n",
       "      <td>19.461420</td>\n",
       "      <td>109.027319</td>\n",
       "      <td>122.964973</td>\n",
       "      <td>247.285347</td>\n",
       "      <td>83.338203</td>\n",
       "      <td>37.256763</td>\n",
       "      <td>24.661521</td>\n",
       "      <td>157.610834</td>\n",
       "      <td>148.118005</td>\n",
       "      <td>95.704832</td>\n",
       "    </tr>\n",
       "  </tbody>\n",
       "</table>\n",
       "<p>7561 rows × 500 columns</p>\n",
       "</div>"
      ],
      "text/plain": [
       "            0          1          2           3          4          5    \\\n",
       "0      1.000000   1.000000   1.000000    1.000000   1.000000   1.000000   \n",
       "1      0.991863   1.004144   1.015135    1.008184   0.987587   1.010039   \n",
       "2      0.998230   0.991121   1.017270    1.014452   0.990550   1.006558   \n",
       "3      0.992439   0.979783   1.012407    1.010579   0.985204   1.009583   \n",
       "4      0.987071   0.982268   1.018219    1.006070   0.984154   1.006900   \n",
       "...         ...        ...        ...         ...        ...        ...   \n",
       "7556  47.951108  55.058759  14.770347  147.553227  22.293058  22.274063   \n",
       "7557  47.331077  56.214944  14.871469  148.760107  22.201263  22.073730   \n",
       "7558  47.970277  56.219777  14.840530  149.246169  22.564471  22.018679   \n",
       "7559  47.236550  56.367645  15.086376  149.003059  22.753238  21.861872   \n",
       "7560  47.604024  56.911110  14.986322  149.640108  22.872068  21.802604   \n",
       "\n",
       "            6          7          8          9    ...        490         491  \\\n",
       "0      1.000000   1.000000   1.000000   1.000000  ...   1.000000    1.000000   \n",
       "1      1.000063   1.000480   1.012641   1.006434  ...   1.013923    0.993398   \n",
       "2      1.000032   0.994668   1.020145   1.019953  ...   1.007250    0.995568   \n",
       "3      0.987024   0.996566   1.011483   1.032397  ...   1.013615    0.990990   \n",
       "4      1.004906   1.004886   1.014416   1.046895  ...   1.011271    0.997972   \n",
       "...         ...        ...        ...        ...  ...        ...         ...   \n",
       "7556  40.307020  36.434740  39.095383  75.488334  ...  20.077846  110.242295   \n",
       "7557  39.666828  36.725065  39.187937  76.219480  ...  20.019111  109.553264   \n",
       "7558  39.533388  37.067812  38.957470  76.847429  ...  20.030903  110.277357   \n",
       "7559  38.952000  36.977178  38.647783  76.528661  ...  19.891920  110.919237   \n",
       "7560  39.012791  37.289327  39.196882  76.281805  ...  19.461420  109.027319   \n",
       "\n",
       "             492         493        494        495        496         497  \\\n",
       "0       1.000000    1.000000   1.000000   1.000000   1.000000    1.000000   \n",
       "1       0.998546    1.012785   1.007741   1.000063   0.991802    0.996387   \n",
       "2       1.001288    1.027758   0.998390   1.009628   0.987867    0.994517   \n",
       "3       1.006580    1.017736   0.994616   1.012671   0.980722    0.995745   \n",
       "4       1.004102    1.027499   0.992062   0.995535   0.985532    0.999895   \n",
       "...          ...         ...        ...        ...        ...         ...   \n",
       "7556  122.308177  244.380920  83.733770  37.098794  24.107171  156.151790   \n",
       "7557  123.581219  248.990914  84.256997  37.017000  24.411378  156.587343   \n",
       "7558  122.393309  248.786088  84.646654  36.618494  24.782772  156.477706   \n",
       "7559  123.210942  247.311483  85.002903  36.545576  24.855637  156.960194   \n",
       "7560  122.964973  247.285347  83.338203  37.256763  24.661521  157.610834   \n",
       "\n",
       "             498        499  \n",
       "0       1.000000   1.000000  \n",
       "1       0.992295   1.000064  \n",
       "2       0.986457   1.005099  \n",
       "3       0.990295   0.996817  \n",
       "4       0.998891   0.985694  \n",
       "...          ...        ...  \n",
       "7556  143.046306  93.356692  \n",
       "7557  144.947443  94.082264  \n",
       "7558  147.701976  93.923625  \n",
       "7559  147.967818  93.933500  \n",
       "7560  148.118005  95.704832  \n",
       "\n",
       "[7561 rows x 500 columns]"
      ]
     },
     "execution_count": 30,
     "metadata": {},
     "output_type": "execute_result"
    }
   ],
   "source": [
    "# Run the Monte Carlo simulation to forecast 30 years cumulative returns\n",
    "MC_thirtyyear.calc_cumulative_return()\n"
   ]
  },
  {
   "cell_type": "code",
   "execution_count": 31,
   "metadata": {},
   "outputs": [
    {
     "data": {
      "image/png": "[encoded data removed]",
      "text/plain": [
       "<Figure size 432x288 with 1 Axes>"
      ]
     },
     "metadata": {
      "needs_background": "light"
     },
     "output_type": "display_data"
    }
   ],
   "source": [
    "# Visualize the 30-year Monte Carlo simulation by creating an\n",
    "# overlay line plot\n",
    "MC_sim_line_plot=MC_thirtyyear.plot_simulation()\n"
   ]
  },
  {
   "cell_type": "markdown",
   "metadata": {},
   "source": [
    "#### Step 3: Plot the probability distribution of the Monte Carlo simulation."
   ]
  },
  {
   "cell_type": "code",
   "execution_count": 32,
   "metadata": {},
   "outputs": [
    {
     "data": {
      "image/png": "[encoded data removed]",
      "text/plain": [
       "<Figure size 432x288 with 1 Axes>"
      ]
     },
     "metadata": {
      "needs_background": "light"
     },
     "output_type": "display_data"
    }
   ],
   "source": [
    "# Visualize the probability distribution of the 30-year Monte Carlo simulation \n",
    "# by plotting a histogram\n",
    "MC_sim_dist_plot = MC_thirtyyear.plot_distribution()\n"
   ]
  },
  {
   "cell_type": "markdown",
   "metadata": {},
   "source": [
    "#### Step 4: Generate the summary statistics for the Monte Carlo simulation."
   ]
  },
  {
   "cell_type": "code",
   "execution_count": 33,
   "metadata": {},
   "outputs": [
    {
     "name": "stdout",
     "output_type": "stream",
     "text": [
      "count           500.000000\n",
      "mean             67.937374\n",
      "std              54.402512\n",
      "min               6.664120\n",
      "25%              32.465131\n",
      "50%              49.173121\n",
      "75%              88.739393\n",
      "max             366.189574\n",
      "95% CI Lower     14.650215\n",
      "95% CI Upper    212.605155\n",
      "Name: 7560, dtype: float64\n"
     ]
    }
   ],
   "source": [
    "# Generate summary statistics from the 30-year Monte Carlo simulation results\n",
    "# Save the results as a variable\n",
    "MC_summary_statistics = MC_thirtyyear.summarize_cumulative_return()\n",
    "\n",
    "# Print summary statistics Series\n",
    "print(MC_summary_statistics)\n"
   ]
  },
  {
   "cell_type": "markdown",
   "metadata": {},
   "source": [
    "### Analyze the Retirement Portfolio Forecasts\n",
    "\n",
    "Using the current value of only the stock and bond portion of the member's portfolio and the summary statistics that you generated from the Monte Carlo simulation, answer the following question in your Jupyter notebook:\n",
    "\n",
    "-  What are the lower and upper bounds for the expected value of the portfolio with a 95% confidence interval?\n"
   ]
  },
  {
   "cell_type": "code",
   "execution_count": 34,
   "metadata": {},
   "outputs": [
    {
     "name": "stdout",
     "output_type": "stream",
     "text": [
      "The current balance of stocks and bonds is $ 73548.80\n"
     ]
    }
   ],
   "source": [
    "# Print the current balance of the stock and bond portion of the members portfolio\n",
    "\n",
    "print(f\"The current balance of stocks and bonds is ${total_stocks_bonds: .2f}\")\n"
   ]
  },
  {
   "cell_type": "code",
   "execution_count": 35,
   "metadata": {},
   "outputs": [
    {
     "name": "stdout",
     "output_type": "stream",
     "text": [
      "There is a 95% chance that this portfolio will return between $ 1077505.71 and $ 15636854.00 in thirty years\n"
     ]
    }
   ],
   "source": [
    "# Use the lower and upper `95%` confidence intervals to calculate the range of the possible outcomes for the current stock/bond portfolio\n",
    "ci_lower_thirty_cumulative_return = MC_summary_statistics[8] * total_stocks_bonds\n",
    "ci_upper_thirty_cumulative_return = MC_summary_statistics[9] * total_stocks_bonds\n",
    "\n",
    "\n",
    "# Print the result of your calculations\n",
    "print(f\"There is a 95% chance that this portfolio will return between ${ci_lower_thirty_cumulative_return: .2f} and ${ci_upper_thirty_cumulative_return: .2f} in thirty years\")\n"
   ]
  },
  {
   "cell_type": "markdown",
   "metadata": {},
   "source": [
    "### Forecast Cumulative Returns in 10 Years\n",
    "\n",
    "The CTO of the credit union is impressed with your work on these planning tools but wonders if 30 years is a long time to wait until retirement. So, your next task is to adjust the retirement portfolio and run a new Monte Carlo simulation to find out if the changes will allow members to retire earlier.\n",
    "\n",
    "For this new Monte Carlo simulation, do the following: \n",
    "\n",
    "- Forecast the cumulative returns for 10 years from now. Because of the shortened investment horizon (30 years to 10 years), the portfolio needs to invest more heavily in the riskier asset&mdash;that is, stock&mdash;to help accumulate wealth for retirement. \n",
    "\n",
    "- Adjust the weights of the retirement portfolio so that the composition for the Monte Carlo simulation consists of 20% bonds and 80% stocks. \n",
    "\n",
    "- Run the simulation over 500 samples, and use the same data that the API call to Alpaca generated.\n",
    "\n",
    "- Based on the new Monte Carlo simulation, answer the following questions in your Jupyter notebook:\n",
    "\n",
    "    - Using the current value of only the stock and bond portion of the member's portfolio and the summary statistics that you generated from the new Monte Carlo simulation, what are the lower and upper bounds for the expected value of the portfolio (with the new weights) with a 95% confidence interval?\n",
    "\n",
    "    - Will weighting the portfolio more heavily toward stocks allow the credit union members to retire after only 10 years?\n"
   ]
  },
  {
   "cell_type": "code",
   "execution_count": 36,
   "metadata": {},
   "outputs": [
    {
     "data": {
      "text/html": [
       "<div>\n",
       "<style scoped>\n",
       "    .dataframe tbody tr th:only-of-type {\n",
       "        vertical-align: middle;\n",
       "    }\n",
       "\n",
       "    .dataframe tbody tr th {\n",
       "        vertical-align: top;\n",
       "    }\n",
       "\n",
       "    .dataframe thead tr th {\n",
       "        text-align: left;\n",
       "    }\n",
       "\n",
       "    .dataframe thead tr:last-of-type th {\n",
       "        text-align: right;\n",
       "    }\n",
       "</style>\n",
       "<table border=\"1\" class=\"dataframe\">\n",
       "  <thead>\n",
       "    <tr>\n",
       "      <th></th>\n",
       "      <th colspan=\"6\" halign=\"left\">AGG</th>\n",
       "      <th colspan=\"6\" halign=\"left\">SPY</th>\n",
       "    </tr>\n",
       "    <tr>\n",
       "      <th></th>\n",
       "      <th>open</th>\n",
       "      <th>high</th>\n",
       "      <th>low</th>\n",
       "      <th>close</th>\n",
       "      <th>volume</th>\n",
       "      <th>daily_return</th>\n",
       "      <th>open</th>\n",
       "      <th>high</th>\n",
       "      <th>low</th>\n",
       "      <th>close</th>\n",
       "      <th>volume</th>\n",
       "      <th>daily_return</th>\n",
       "    </tr>\n",
       "    <tr>\n",
       "      <th>time</th>\n",
       "      <th></th>\n",
       "      <th></th>\n",
       "      <th></th>\n",
       "      <th></th>\n",
       "      <th></th>\n",
       "      <th></th>\n",
       "      <th></th>\n",
       "      <th></th>\n",
       "      <th></th>\n",
       "      <th></th>\n",
       "      <th></th>\n",
       "      <th></th>\n",
       "    </tr>\n",
       "  </thead>\n",
       "  <tbody>\n",
       "    <tr>\n",
       "      <th>2019-01-14 00:00:00-05:00</th>\n",
       "      <td>106.57</td>\n",
       "      <td>106.6099</td>\n",
       "      <td>106.4000</td>\n",
       "      <td>106.440</td>\n",
       "      <td>6544627.0</td>\n",
       "      <td>NaN</td>\n",
       "      <td>256.86</td>\n",
       "      <td>258.3000</td>\n",
       "      <td>256.410</td>\n",
       "      <td>257.69</td>\n",
       "      <td>51552561</td>\n",
       "      <td>NaN</td>\n",
       "    </tr>\n",
       "    <tr>\n",
       "      <th>2019-01-15 00:00:00-05:00</th>\n",
       "      <td>106.54</td>\n",
       "      <td>106.5500</td>\n",
       "      <td>106.3300</td>\n",
       "      <td>106.400</td>\n",
       "      <td>3370918.0</td>\n",
       "      <td>-0.000376</td>\n",
       "      <td>257.82</td>\n",
       "      <td>260.7000</td>\n",
       "      <td>257.250</td>\n",
       "      <td>260.21</td>\n",
       "      <td>72130969</td>\n",
       "      <td>0.009779</td>\n",
       "    </tr>\n",
       "    <tr>\n",
       "      <th>2019-01-16 00:00:00-05:00</th>\n",
       "      <td>106.33</td>\n",
       "      <td>106.5200</td>\n",
       "      <td>105.7500</td>\n",
       "      <td>106.475</td>\n",
       "      <td>3531236.0</td>\n",
       "      <td>0.000705</td>\n",
       "      <td>260.83</td>\n",
       "      <td>261.9666</td>\n",
       "      <td>260.600</td>\n",
       "      <td>260.94</td>\n",
       "      <td>59299089</td>\n",
       "      <td>0.002805</td>\n",
       "    </tr>\n",
       "    <tr>\n",
       "      <th>2019-01-17 00:00:00-05:00</th>\n",
       "      <td>106.53</td>\n",
       "      <td>106.5300</td>\n",
       "      <td>106.3350</td>\n",
       "      <td>106.430</td>\n",
       "      <td>5184640.0</td>\n",
       "      <td>-0.000423</td>\n",
       "      <td>260.01</td>\n",
       "      <td>263.9200</td>\n",
       "      <td>259.960</td>\n",
       "      <td>262.88</td>\n",
       "      <td>79893207</td>\n",
       "      <td>0.007435</td>\n",
       "    </tr>\n",
       "    <tr>\n",
       "      <th>2019-01-18 00:00:00-05:00</th>\n",
       "      <td>106.37</td>\n",
       "      <td>106.4799</td>\n",
       "      <td>106.2803</td>\n",
       "      <td>106.325</td>\n",
       "      <td>5666187.0</td>\n",
       "      <td>-0.000987</td>\n",
       "      <td>264.98</td>\n",
       "      <td>266.9800</td>\n",
       "      <td>262.998</td>\n",
       "      <td>266.16</td>\n",
       "      <td>99666883</td>\n",
       "      <td>0.012477</td>\n",
       "    </tr>\n",
       "  </tbody>\n",
       "</table>\n",
       "</div>"
      ],
      "text/plain": [
       "                              AGG                                          \\\n",
       "                             open      high       low    close     volume   \n",
       "time                                                                        \n",
       "2019-01-14 00:00:00-05:00  106.57  106.6099  106.4000  106.440  6544627.0   \n",
       "2019-01-15 00:00:00-05:00  106.54  106.5500  106.3300  106.400  3370918.0   \n",
       "2019-01-16 00:00:00-05:00  106.33  106.5200  105.7500  106.475  3531236.0   \n",
       "2019-01-17 00:00:00-05:00  106.53  106.5300  106.3350  106.430  5184640.0   \n",
       "2019-01-18 00:00:00-05:00  106.37  106.4799  106.2803  106.325  5666187.0   \n",
       "\n",
       "                                           SPY                             \\\n",
       "                          daily_return    open      high      low   close   \n",
       "time                                                                        \n",
       "2019-01-14 00:00:00-05:00          NaN  256.86  258.3000  256.410  257.69   \n",
       "2019-01-15 00:00:00-05:00    -0.000376  257.82  260.7000  257.250  260.21   \n",
       "2019-01-16 00:00:00-05:00     0.000705  260.83  261.9666  260.600  260.94   \n",
       "2019-01-17 00:00:00-05:00    -0.000423  260.01  263.9200  259.960  262.88   \n",
       "2019-01-18 00:00:00-05:00    -0.000987  264.98  266.9800  262.998  266.16   \n",
       "\n",
       "                                                  \n",
       "                             volume daily_return  \n",
       "time                                              \n",
       "2019-01-14 00:00:00-05:00  51552561          NaN  \n",
       "2019-01-15 00:00:00-05:00  72130969     0.009779  \n",
       "2019-01-16 00:00:00-05:00  59299089     0.002805  \n",
       "2019-01-17 00:00:00-05:00  79893207     0.007435  \n",
       "2019-01-18 00:00:00-05:00  99666883     0.012477  "
      ]
     },
     "execution_count": 36,
     "metadata": {},
     "output_type": "execute_result"
    }
   ],
   "source": [
    "# Configure a Monte Carlo simulation to forecast 10 years cumulative returns\n",
    "# The weights should be split 20% to AGG and 80% to SPY.\n",
    "# Run 500 samples.\n",
    "MC_tenyear = MCSimulation(\n",
    "  portfolio_data = prices_df,\n",
    "  weights = [.20,.80],\n",
    "  num_simulation = 500,\n",
    "  num_trading_days = 252*10\n",
    ")\n",
    "\n",
    "# Review the simulation input data\n",
    "MC_tenyear.portfolio_data.head()\n"
   ]
  },
  {
   "cell_type": "code",
   "execution_count": 37,
   "metadata": {},
   "outputs": [
    {
     "name": "stdout",
     "output_type": "stream",
     "text": [
      "Running Monte Carlo simulation number 0.\n",
      "Running Monte Carlo simulation number 10.\n",
      "Running Monte Carlo simulation number 20.\n",
      "Running Monte Carlo simulation number 30.\n",
      "Running Monte Carlo simulation number 40.\n",
      "Running Monte Carlo simulation number 50.\n",
      "Running Monte Carlo simulation number 60.\n",
      "Running Monte Carlo simulation number 70.\n",
      "Running Monte Carlo simulation number 80.\n",
      "Running Monte Carlo simulation number 90.\n",
      "Running Monte Carlo simulation number 100.\n"
     ]
    },
    {
     "name": "stderr",
     "output_type": "stream",
     "text": [
      "C:\\Users\\awh_a\\Fintech_Workspace\\05_Module\\Mod5_Challenge\\MCForecastTools.py:117: PerformanceWarning: DataFrame is highly fragmented.  This is usually the result of calling `frame.insert` many times, which has poor performance.  Consider joining all columns at once using pd.concat(axis=1) instead.  To get a de-fragmented frame, use `newframe = frame.copy()`\n",
      "  portfolio_cumulative_returns[n] = (1 + sim_df.fillna(0)).cumprod()\n"
     ]
    },
    {
     "name": "stdout",
     "output_type": "stream",
     "text": [
      "Running Monte Carlo simulation number 110.\n",
      "Running Monte Carlo simulation number 120.\n",
      "Running Monte Carlo simulation number 130.\n",
      "Running Monte Carlo simulation number 140.\n",
      "Running Monte Carlo simulation number 150.\n",
      "Running Monte Carlo simulation number 160.\n",
      "Running Monte Carlo simulation number 170.\n",
      "Running Monte Carlo simulation number 180.\n",
      "Running Monte Carlo simulation number 190.\n",
      "Running Monte Carlo simulation number 200.\n",
      "Running Monte Carlo simulation number 210.\n",
      "Running Monte Carlo simulation number 220.\n",
      "Running Monte Carlo simulation number 230.\n",
      "Running Monte Carlo simulation number 240.\n",
      "Running Monte Carlo simulation number 250.\n",
      "Running Monte Carlo simulation number 260.\n",
      "Running Monte Carlo simulation number 270.\n",
      "Running Monte Carlo simulation number 280.\n",
      "Running Monte Carlo simulation number 290.\n",
      "Running Monte Carlo simulation number 300.\n",
      "Running Monte Carlo simulation number 310.\n",
      "Running Monte Carlo simulation number 320.\n",
      "Running Monte Carlo simulation number 330.\n",
      "Running Monte Carlo simulation number 340.\n",
      "Running Monte Carlo simulation number 350.\n",
      "Running Monte Carlo simulation number 360.\n",
      "Running Monte Carlo simulation number 370.\n",
      "Running Monte Carlo simulation number 380.\n",
      "Running Monte Carlo simulation number 390.\n",
      "Running Monte Carlo simulation number 400.\n",
      "Running Monte Carlo simulation number 410.\n",
      "Running Monte Carlo simulation number 420.\n",
      "Running Monte Carlo simulation number 430.\n",
      "Running Monte Carlo simulation number 440.\n",
      "Running Monte Carlo simulation number 450.\n",
      "Running Monte Carlo simulation number 460.\n",
      "Running Monte Carlo simulation number 470.\n",
      "Running Monte Carlo simulation number 480.\n",
      "Running Monte Carlo simulation number 490.\n"
     ]
    },
    {
     "data": {
      "text/html": [
       "<div>\n",
       "<style scoped>\n",
       "    .dataframe tbody tr th:only-of-type {\n",
       "        vertical-align: middle;\n",
       "    }\n",
       "\n",
       "    .dataframe tbody tr th {\n",
       "        vertical-align: top;\n",
       "    }\n",
       "\n",
       "    .dataframe thead th {\n",
       "        text-align: right;\n",
       "    }\n",
       "</style>\n",
       "<table border=\"1\" class=\"dataframe\">\n",
       "  <thead>\n",
       "    <tr style=\"text-align: right;\">\n",
       "      <th></th>\n",
       "      <th>0</th>\n",
       "      <th>1</th>\n",
       "      <th>2</th>\n",
       "      <th>3</th>\n",
       "      <th>4</th>\n",
       "      <th>5</th>\n",
       "      <th>6</th>\n",
       "      <th>7</th>\n",
       "      <th>8</th>\n",
       "      <th>9</th>\n",
       "      <th>...</th>\n",
       "      <th>490</th>\n",
       "      <th>491</th>\n",
       "      <th>492</th>\n",
       "      <th>493</th>\n",
       "      <th>494</th>\n",
       "      <th>495</th>\n",
       "      <th>496</th>\n",
       "      <th>497</th>\n",
       "      <th>498</th>\n",
       "      <th>499</th>\n",
       "    </tr>\n",
       "  </thead>\n",
       "  <tbody>\n",
       "    <tr>\n",
       "      <th>0</th>\n",
       "      <td>1.000000</td>\n",
       "      <td>1.000000</td>\n",
       "      <td>1.000000</td>\n",
       "      <td>1.000000</td>\n",
       "      <td>1.000000</td>\n",
       "      <td>1.000000</td>\n",
       "      <td>1.000000</td>\n",
       "      <td>1.000000</td>\n",
       "      <td>1.000000</td>\n",
       "      <td>1.000000</td>\n",
       "      <td>...</td>\n",
       "      <td>1.000000</td>\n",
       "      <td>1.000000</td>\n",
       "      <td>1.000000</td>\n",
       "      <td>1.000000</td>\n",
       "      <td>1.000000</td>\n",
       "      <td>1.000000</td>\n",
       "      <td>1.000000</td>\n",
       "      <td>1.000000</td>\n",
       "      <td>1.000000</td>\n",
       "      <td>1.000000</td>\n",
       "    </tr>\n",
       "    <tr>\n",
       "      <th>1</th>\n",
       "      <td>1.014641</td>\n",
       "      <td>0.993613</td>\n",
       "      <td>1.004174</td>\n",
       "      <td>1.002061</td>\n",
       "      <td>1.013135</td>\n",
       "      <td>1.008305</td>\n",
       "      <td>0.996378</td>\n",
       "      <td>1.003240</td>\n",
       "      <td>0.997658</td>\n",
       "      <td>0.988089</td>\n",
       "      <td>...</td>\n",
       "      <td>1.007874</td>\n",
       "      <td>1.012785</td>\n",
       "      <td>1.012562</td>\n",
       "      <td>1.000891</td>\n",
       "      <td>0.996283</td>\n",
       "      <td>1.035089</td>\n",
       "      <td>0.991939</td>\n",
       "      <td>1.001834</td>\n",
       "      <td>0.978214</td>\n",
       "      <td>1.003880</td>\n",
       "    </tr>\n",
       "    <tr>\n",
       "      <th>2</th>\n",
       "      <td>1.005981</td>\n",
       "      <td>0.992368</td>\n",
       "      <td>1.016573</td>\n",
       "      <td>0.982422</td>\n",
       "      <td>1.013698</td>\n",
       "      <td>1.021874</td>\n",
       "      <td>0.997528</td>\n",
       "      <td>1.004221</td>\n",
       "      <td>0.993223</td>\n",
       "      <td>0.980671</td>\n",
       "      <td>...</td>\n",
       "      <td>0.996690</td>\n",
       "      <td>1.038117</td>\n",
       "      <td>1.003700</td>\n",
       "      <td>0.986179</td>\n",
       "      <td>1.010268</td>\n",
       "      <td>1.052436</td>\n",
       "      <td>0.998478</td>\n",
       "      <td>0.996851</td>\n",
       "      <td>1.005677</td>\n",
       "      <td>0.995889</td>\n",
       "    </tr>\n",
       "    <tr>\n",
       "      <th>3</th>\n",
       "      <td>1.018524</td>\n",
       "      <td>0.994033</td>\n",
       "      <td>1.032439</td>\n",
       "      <td>0.991139</td>\n",
       "      <td>1.012468</td>\n",
       "      <td>1.024821</td>\n",
       "      <td>0.978948</td>\n",
       "      <td>1.015084</td>\n",
       "      <td>0.977881</td>\n",
       "      <td>0.978746</td>\n",
       "      <td>...</td>\n",
       "      <td>1.003977</td>\n",
       "      <td>1.047581</td>\n",
       "      <td>1.023532</td>\n",
       "      <td>0.980494</td>\n",
       "      <td>1.023995</td>\n",
       "      <td>1.048187</td>\n",
       "      <td>0.988339</td>\n",
       "      <td>0.983133</td>\n",
       "      <td>0.996324</td>\n",
       "      <td>1.010948</td>\n",
       "    </tr>\n",
       "    <tr>\n",
       "      <th>4</th>\n",
       "      <td>1.013544</td>\n",
       "      <td>0.984960</td>\n",
       "      <td>1.042267</td>\n",
       "      <td>1.000710</td>\n",
       "      <td>1.014642</td>\n",
       "      <td>1.018220</td>\n",
       "      <td>0.996897</td>\n",
       "      <td>1.011162</td>\n",
       "      <td>0.991667</td>\n",
       "      <td>0.970522</td>\n",
       "      <td>...</td>\n",
       "      <td>1.004751</td>\n",
       "      <td>1.052616</td>\n",
       "      <td>1.020703</td>\n",
       "      <td>0.972389</td>\n",
       "      <td>1.019874</td>\n",
       "      <td>1.054710</td>\n",
       "      <td>1.007918</td>\n",
       "      <td>0.979035</td>\n",
       "      <td>1.013112</td>\n",
       "      <td>1.008799</td>\n",
       "    </tr>\n",
       "    <tr>\n",
       "      <th>...</th>\n",
       "      <td>...</td>\n",
       "      <td>...</td>\n",
       "      <td>...</td>\n",
       "      <td>...</td>\n",
       "      <td>...</td>\n",
       "      <td>...</td>\n",
       "      <td>...</td>\n",
       "      <td>...</td>\n",
       "      <td>...</td>\n",
       "      <td>...</td>\n",
       "      <td>...</td>\n",
       "      <td>...</td>\n",
       "      <td>...</td>\n",
       "      <td>...</td>\n",
       "      <td>...</td>\n",
       "      <td>...</td>\n",
       "      <td>...</td>\n",
       "      <td>...</td>\n",
       "      <td>...</td>\n",
       "      <td>...</td>\n",
       "      <td>...</td>\n",
       "    </tr>\n",
       "    <tr>\n",
       "      <th>2516</th>\n",
       "      <td>1.825175</td>\n",
       "      <td>14.549076</td>\n",
       "      <td>6.382360</td>\n",
       "      <td>7.187233</td>\n",
       "      <td>3.737945</td>\n",
       "      <td>10.638253</td>\n",
       "      <td>4.304431</td>\n",
       "      <td>11.577997</td>\n",
       "      <td>5.619697</td>\n",
       "      <td>6.328019</td>\n",
       "      <td>...</td>\n",
       "      <td>6.420985</td>\n",
       "      <td>6.951938</td>\n",
       "      <td>2.286418</td>\n",
       "      <td>2.955298</td>\n",
       "      <td>7.606266</td>\n",
       "      <td>7.175959</td>\n",
       "      <td>3.592423</td>\n",
       "      <td>6.984398</td>\n",
       "      <td>4.925788</td>\n",
       "      <td>4.097750</td>\n",
       "    </tr>\n",
       "    <tr>\n",
       "      <th>2517</th>\n",
       "      <td>1.795117</td>\n",
       "      <td>14.609050</td>\n",
       "      <td>6.439269</td>\n",
       "      <td>7.204028</td>\n",
       "      <td>3.702439</td>\n",
       "      <td>10.477017</td>\n",
       "      <td>4.374766</td>\n",
       "      <td>11.473836</td>\n",
       "      <td>5.621495</td>\n",
       "      <td>6.412770</td>\n",
       "      <td>...</td>\n",
       "      <td>6.302902</td>\n",
       "      <td>6.919196</td>\n",
       "      <td>2.316651</td>\n",
       "      <td>3.019127</td>\n",
       "      <td>7.614138</td>\n",
       "      <td>7.094964</td>\n",
       "      <td>3.599399</td>\n",
       "      <td>6.829357</td>\n",
       "      <td>4.938734</td>\n",
       "      <td>4.071149</td>\n",
       "    </tr>\n",
       "    <tr>\n",
       "      <th>2518</th>\n",
       "      <td>1.781767</td>\n",
       "      <td>14.619904</td>\n",
       "      <td>6.365564</td>\n",
       "      <td>7.242452</td>\n",
       "      <td>3.682101</td>\n",
       "      <td>10.400554</td>\n",
       "      <td>4.405758</td>\n",
       "      <td>11.660153</td>\n",
       "      <td>5.615013</td>\n",
       "      <td>6.413964</td>\n",
       "      <td>...</td>\n",
       "      <td>6.247987</td>\n",
       "      <td>6.884409</td>\n",
       "      <td>2.366393</td>\n",
       "      <td>3.022840</td>\n",
       "      <td>7.607981</td>\n",
       "      <td>7.100200</td>\n",
       "      <td>3.590681</td>\n",
       "      <td>6.708563</td>\n",
       "      <td>4.971344</td>\n",
       "      <td>4.040524</td>\n",
       "    </tr>\n",
       "    <tr>\n",
       "      <th>2519</th>\n",
       "      <td>1.805034</td>\n",
       "      <td>14.436682</td>\n",
       "      <td>6.422295</td>\n",
       "      <td>7.223552</td>\n",
       "      <td>3.719138</td>\n",
       "      <td>10.410920</td>\n",
       "      <td>4.477345</td>\n",
       "      <td>11.618416</td>\n",
       "      <td>5.521738</td>\n",
       "      <td>6.378793</td>\n",
       "      <td>...</td>\n",
       "      <td>6.136579</td>\n",
       "      <td>6.915008</td>\n",
       "      <td>2.375785</td>\n",
       "      <td>2.999880</td>\n",
       "      <td>7.469527</td>\n",
       "      <td>7.209028</td>\n",
       "      <td>3.624299</td>\n",
       "      <td>6.732851</td>\n",
       "      <td>4.970072</td>\n",
       "      <td>3.996713</td>\n",
       "    </tr>\n",
       "    <tr>\n",
       "      <th>2520</th>\n",
       "      <td>1.789752</td>\n",
       "      <td>14.344718</td>\n",
       "      <td>6.568298</td>\n",
       "      <td>7.119499</td>\n",
       "      <td>3.738394</td>\n",
       "      <td>10.625698</td>\n",
       "      <td>4.515287</td>\n",
       "      <td>11.652620</td>\n",
       "      <td>5.529403</td>\n",
       "      <td>6.444739</td>\n",
       "      <td>...</td>\n",
       "      <td>6.140002</td>\n",
       "      <td>6.879238</td>\n",
       "      <td>2.372719</td>\n",
       "      <td>3.041199</td>\n",
       "      <td>7.532171</td>\n",
       "      <td>7.338683</td>\n",
       "      <td>3.612623</td>\n",
       "      <td>6.801081</td>\n",
       "      <td>4.952199</td>\n",
       "      <td>3.991451</td>\n",
       "    </tr>\n",
       "  </tbody>\n",
       "</table>\n",
       "<p>2521 rows × 500 columns</p>\n",
       "</div>"
      ],
      "text/plain": [
       "           0          1         2         3         4          5         6    \\\n",
       "0     1.000000   1.000000  1.000000  1.000000  1.000000   1.000000  1.000000   \n",
       "1     1.014641   0.993613  1.004174  1.002061  1.013135   1.008305  0.996378   \n",
       "2     1.005981   0.992368  1.016573  0.982422  1.013698   1.021874  0.997528   \n",
       "3     1.018524   0.994033  1.032439  0.991139  1.012468   1.024821  0.978948   \n",
       "4     1.013544   0.984960  1.042267  1.000710  1.014642   1.018220  0.996897   \n",
       "...        ...        ...       ...       ...       ...        ...       ...   \n",
       "2516  1.825175  14.549076  6.382360  7.187233  3.737945  10.638253  4.304431   \n",
       "2517  1.795117  14.609050  6.439269  7.204028  3.702439  10.477017  4.374766   \n",
       "2518  1.781767  14.619904  6.365564  7.242452  3.682101  10.400554  4.405758   \n",
       "2519  1.805034  14.436682  6.422295  7.223552  3.719138  10.410920  4.477345   \n",
       "2520  1.789752  14.344718  6.568298  7.119499  3.738394  10.625698  4.515287   \n",
       "\n",
       "            7         8         9    ...       490       491       492  \\\n",
       "0      1.000000  1.000000  1.000000  ...  1.000000  1.000000  1.000000   \n",
       "1      1.003240  0.997658  0.988089  ...  1.007874  1.012785  1.012562   \n",
       "2      1.004221  0.993223  0.980671  ...  0.996690  1.038117  1.003700   \n",
       "3      1.015084  0.977881  0.978746  ...  1.003977  1.047581  1.023532   \n",
       "4      1.011162  0.991667  0.970522  ...  1.004751  1.052616  1.020703   \n",
       "...         ...       ...       ...  ...       ...       ...       ...   \n",
       "2516  11.577997  5.619697  6.328019  ...  6.420985  6.951938  2.286418   \n",
       "2517  11.473836  5.621495  6.412770  ...  6.302902  6.919196  2.316651   \n",
       "2518  11.660153  5.615013  6.413964  ...  6.247987  6.884409  2.366393   \n",
       "2519  11.618416  5.521738  6.378793  ...  6.136579  6.915008  2.375785   \n",
       "2520  11.652620  5.529403  6.444739  ...  6.140002  6.879238  2.372719   \n",
       "\n",
       "           493       494       495       496       497       498       499  \n",
       "0     1.000000  1.000000  1.000000  1.000000  1.000000  1.000000  1.000000  \n",
       "1     1.000891  0.996283  1.035089  0.991939  1.001834  0.978214  1.003880  \n",
       "2     0.986179  1.010268  1.052436  0.998478  0.996851  1.005677  0.995889  \n",
       "3     0.980494  1.023995  1.048187  0.988339  0.983133  0.996324  1.010948  \n",
       "4     0.972389  1.019874  1.054710  1.007918  0.979035  1.013112  1.008799  \n",
       "...        ...       ...       ...       ...       ...       ...       ...  \n",
       "2516  2.955298  7.606266  7.175959  3.592423  6.984398  4.925788  4.097750  \n",
       "2517  3.019127  7.614138  7.094964  3.599399  6.829357  4.938734  4.071149  \n",
       "2518  3.022840  7.607981  7.100200  3.590681  6.708563  4.971344  4.040524  \n",
       "2519  2.999880  7.469527  7.209028  3.624299  6.732851  4.970072  3.996713  \n",
       "2520  3.041199  7.532171  7.338683  3.612623  6.801081  4.952199  3.991451  \n",
       "\n",
       "[2521 rows x 500 columns]"
      ]
     },
     "execution_count": 37,
     "metadata": {},
     "output_type": "execute_result"
    }
   ],
   "source": [
    "# Run the Monte Carlo simulation to forecast 10 years cumulative returns\n",
    "MC_tenyear.calc_cumulative_return()\n"
   ]
  },
  {
   "cell_type": "code",
   "execution_count": 38,
   "metadata": {},
   "outputs": [
    {
     "data": {
      "image/png": "[encoded data removed]",
      "text/plain": [
       "<Figure size 432x288 with 1 Axes>"
      ]
     },
     "metadata": {
      "needs_background": "light"
     },
     "output_type": "display_data"
    }
   ],
   "source": [
    "# Visualize the 10-year Monte Carlo simulation by creating an\n",
    "# overlay line plot\n",
    "MC_sim_line_plot=MC_tenyear.plot_simulation()\n"
   ]
  },
  {
   "cell_type": "code",
   "execution_count": 39,
   "metadata": {},
   "outputs": [
    {
     "data": {
      "image/png": "[encoded data removed]",
      "text/plain": [
       "<Figure size 432x288 with 1 Axes>"
      ]
     },
     "metadata": {
      "needs_background": "light"
     },
     "output_type": "display_data"
    }
   ],
   "source": [
    "# Visualize the probability distribution of the 10-year Monte Carlo simulation \n",
    "# by plotting a histogram\n",
    "MC_sim_dist_plot = MC_tenyear.plot_distribution()\n"
   ]
  },
  {
   "cell_type": "code",
   "execution_count": 40,
   "metadata": {},
   "outputs": [
    {
     "name": "stdout",
     "output_type": "stream",
     "text": [
      "count           500.000000\n",
      "mean              6.265481\n",
      "std               3.729427\n",
      "min               1.212108\n",
      "25%               3.682078\n",
      "50%               5.342185\n",
      "75%               7.758020\n",
      "max              28.054581\n",
      "95% CI Lower      1.799264\n",
      "95% CI Upper     15.980697\n",
      "Name: 2520, dtype: float64\n"
     ]
    }
   ],
   "source": [
    "# Generate summary statistics from the 10-year Monte Carlo simulation results\n",
    "# Save the results as a variable\n",
    "MC_summary_statistics = MC_tenyear.summarize_cumulative_return()\n",
    "\n",
    "# Print summary statistics Series\n",
    "print(MC_summary_statistics)\n"
   ]
  },
  {
   "cell_type": "markdown",
   "metadata": {},
   "source": [
    "### Answer the following questions:"
   ]
  },
  {
   "cell_type": "markdown",
   "metadata": {},
   "source": [
    "#### Question: Using the current value of only the stock and bond portion of the member's portfolio and the summary statistics that you generated from the new Monte Carlo simulation, what are the lower and upper bounds for the expected value of the portfolio (with the new weights) with a 95% confidence interval?"
   ]
  },
  {
   "cell_type": "code",
   "execution_count": 41,
   "metadata": {},
   "outputs": [
    {
     "name": "stdout",
     "output_type": "stream",
     "text": [
      "The current balance of stocks and bonds is $ 73548.80\n"
     ]
    }
   ],
   "source": [
    "# Print the current balance of the stock and bond portion of the members portfolio\n",
    "print(f\"The current balance of stocks and bonds is ${total_stocks_bonds: .2f}\")\n"
   ]
  },
  {
   "cell_type": "code",
   "execution_count": 54,
   "metadata": {},
   "outputs": [
    {
     "name": "stdout",
     "output_type": "stream",
     "text": [
      "There is a 95% chance that this portfolio will return between $ 132333.74 and $ 1175361.05 in ten years\n"
     ]
    }
   ],
   "source": [
    "# Use the lower and upper `95%` confidence intervals to calculate the range of the possible outcomes for the current stock/bond portfolio\n",
    "ci_lower_ten_cumulative_return = MC_summary_statistics[8] * total_stocks_bonds\n",
    "ci_upper_ten_cumulative_return = MC_summary_statistics[9] * total_stocks_bonds\n",
    "\n",
    "\n",
    "# Print the result of your calculations\n",
    "print(f\"There is a 95% chance that this portfolio will return between ${ci_lower_ten_cumulative_return: .2f} and ${ci_upper_ten_cumulative_return: .2f} in ten years\")\n",
    "\n"
   ]
  },
  {
   "cell_type": "markdown",
   "metadata": {},
   "source": [
    "#### Question: Will weighting the portfolio more heavily to stocks allow the credit union members to retire after only 10 years?"
   ]
  },
  {
   "cell_type": "raw",
   "metadata": {},
   "source": [
    "**Answer** # The heavy weighting of stocks (80%) for the ten year time horizon made the potential portfolio gains hard to narrow down. The 90% confidence interval had a huge range that predicted the portfolio would be worth between $132,300 and $1,175,361 in 10 years. The $1M portfolio might be enough for someone to retire on in certain circumstances. However, the wide range of possible outcomes would cause me to say that this is not a good option for trying to ensure enough money for retirement in 10 years.  "
   ]
  },
  {
   "cell_type": "code",
   "execution_count": null,
   "metadata": {},
   "outputs": [],
   "source": []
  }
 ],
 "metadata": {
  "kernelspec": {
   "display_name": "Python (dev)",
   "language": "python",
   "name": "dev"
  },
  "language_info": {
   "codemirror_mode": {
    "name": "ipython",
    "version": 3
   },
   "file_extension": ".py",
   "mimetype": "text/x-python",
   "name": "python",
   "nbconvert_exporter": "python",
   "pygments_lexer": "ipython3",
   "version": "3.7.11"
  }
 },
 "nbformat": 4,
 "nbformat_minor": 4
}
